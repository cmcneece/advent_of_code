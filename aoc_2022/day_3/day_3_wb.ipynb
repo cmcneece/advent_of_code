{
 "cells": [
  {
   "cell_type": "markdown",
   "metadata": {},
   "source": [
    "--- Day 3: Rucksack Reorganization ---\n",
    "\n",
    "One Elf has the important job of loading all of the rucksacks with supplies for the jungle journey. Unfortunately, that Elf didn't quite follow the packing instructions, and so a few items now need to be rearranged.\n",
    "\n",
    "Each rucksack has two large compartments. All items of a given type are meant to go into exactly one of the two compartments. The Elf that did the packing failed to follow this rule for exactly one item type per rucksack.\n",
    "\n",
    "The Elves have made a list of all of the items currently in each rucksack (your puzzle input), but they need your help finding the errors. Every item type is identified by a single lowercase or uppercase letter (that is, a and A refer to different types of items).\n",
    "\n",
    "The list of items for each rucksack is given as characters all on a single line. A given rucksack always has the same number of items in each of its two compartments, so the first half of the characters represent items in the first compartment, while the second half of the characters represent items in the second compartment.\n",
    "\n",
    "For example, suppose you have the following list of contents from six rucksacks:\n",
    "\n",
    "vJrwpWtwJgWrhcsFMMfFFhFp\n",
    "jqHRNqRjqzjGDLGLrsFMfFZSrLrFZsSL\n",
    "PmmdzqPrVvPwwTWBwg\n",
    "wMqvLMZHhHMvwLHjbvcjnnSBnvTQFn\n",
    "ttgJtRGJQctTZtZT\n",
    "CrZsJsPPZsGzwwsLwLmpwMDw\n",
    "\n",
    "The first rucksack contains the items vJrwpWtwJgWrhcsFMMfFFhFp, which means its first compartment contains the items vJrwpWtwJgWr, while the second compartment contains the items hcsFMMfFFhFp. The only item type that appears in both compartments is lowercase p.\n",
    "The second rucksack's compartments contain jqHRNqRjqzjGDLGL and rsFMfFZSrLrFZsSL. The only item type that appears in both compartments is uppercase L.\n",
    "The third rucksack's compartments contain PmmdzqPrV and vPwwTWBwg; the only common item type is uppercase P.\n",
    "The fourth rucksack's compartments only share item type v.\n",
    "The fifth rucksack's compartments only share item type t.\n",
    "The sixth rucksack's compartments only share item type s.\n",
    "To help prioritize item rearrangement, every item type can be converted to a priority:\n",
    "\n",
    "Lowercase item types a through z have priorities 1 through 26.\n",
    "Uppercase item types A through Z have priorities 27 through 52.\n",
    "In the above example, the priority of the item type that appears in both compartments of each rucksack is 16 (p), 38 (L), 42 (P), 22 (v), 20 (t), and 19 (s); the sum of these is 157.\n",
    "\n",
    "Find the item type that appears in both compartments of each rucksack. What is the sum of the priorities of those item types?"
   ]
  },
  {
   "cell_type": "code",
   "execution_count": 74,
   "metadata": {},
   "outputs": [],
   "source": [
    "import string"
   ]
  },
  {
   "cell_type": "code",
   "execution_count": 75,
   "metadata": {},
   "outputs": [],
   "source": [
    "# we need all the upper and lower case letters to create the inventory list\n",
    "lower_case = string.ascii_lowercase\n",
    "upper_case = string.ascii_uppercase\n",
    "letters = lower_case + upper_case\n",
    "\n",
    "# the priority of each item increments by one we make a range\n",
    "priority_range = range(1, len(letters)+1, 1)\n",
    "\n",
    "# zip the items and their priority into a dict so it can be indexed\n",
    "item_priority = dict(zip(letters, priority_range))"
   ]
  },
  {
   "cell_type": "code",
   "execution_count": 76,
   "metadata": {},
   "outputs": [],
   "source": [
    "# read in the rucksack inventory data and clean off the carriage returns\n",
    "input_path = \"input.txt\"\n",
    "with open(input_path) as f:\n",
    "    rucksacks = [line.strip('\\n') for line in f.readlines()]\n",
    "\n",
    "# we will use total_priority to track the running total priority\n",
    "total_priority = 0\n",
    "\n",
    "# loop through each rucksack\n",
    "for rucksack in rucksacks:\n",
    "\n",
    "    # find out where to seperate the first and second compartment\n",
    "    number_of_items = len(rucksack)\n",
    "    stop_index = int(number_of_items/2)\n",
    "\n",
    "    # grab the items from each compartment\n",
    "    first_comp_items = rucksack[:stop_index]\n",
    "    second_comp_items = rucksack[stop_index:]\n",
    "\n",
    "    # find the common item between the two compartments\n",
    "    commonon_item = set(first_comp_items) & set(second_comp_items)\n",
    "    \n",
    "    # add the priority of the common item to the running total priority\n",
    "    total_priority += item_priority[commonon_item.pop()]"
   ]
  },
  {
   "cell_type": "code",
   "execution_count": 77,
   "metadata": {},
   "outputs": [
    {
     "name": "stdout",
     "output_type": "stream",
     "text": [
      "The sum of the priorities of the item type that appears in both compartments of each rucksack is 7428.\n"
     ]
    }
   ],
   "source": [
    "msg = 'The sum of the priorities of the item type that appears in both compartments of each rucksack is {total_priority}.'\n",
    "print(msg.format(total_priority=total_priority))"
   ]
  },
  {
   "cell_type": "markdown",
   "metadata": {},
   "source": [
    "--- Part Two ---\n",
    "\n",
    "As you finish identifying the misplaced items, the Elves come to you with another issue.\n",
    "\n",
    "For safety, the Elves are divided into groups of three. Every Elf carries a badge that identifies their group. For efficiency, within each group of three Elves, the badge is the only item type carried by all three Elves. That is, if a group's badge is item type B, then all three Elves will have item type B somewhere in their rucksack, and at most two of the Elves will be carrying any other item type.\n",
    "\n",
    "The problem is that someone forgot to put this year's updated authenticity sticker on the badges. All of the badges need to be pulled out of the rucksacks so the new authenticity stickers can be attached.\n",
    "\n",
    "Additionally, nobody wrote down which item type corresponds to each group's badges. The only way to tell which item type is the right one is by finding the one item type that is common between all three Elves in each group.\n",
    "\n",
    "Every set of three lines in your list corresponds to a single group, but each group can have a different badge item type. So, in the above example, the first group's rucksacks are the first three lines:\n",
    "\n",
    "vJrwpWtwJgWrhcsFMMfFFhFp\n",
    "jqHRNqRjqzjGDLGLrsFMfFZSrLrFZsSL\n",
    "PmmdzqPrVvPwwTWBwg\n",
    "And the second group's rucksacks are the next three lines:\n",
    "\n",
    "wMqvLMZHhHMvwLHjbvcjnnSBnvTQFn\n",
    "ttgJtRGJQctTZtZT\n",
    "CrZsJsPPZsGzwwsLwLmpwMDw\n",
    "In the first group, the only item type that appears in all three rucksacks is lowercase r; this must be their badges. In the second group, their badge item type must be Z.\n",
    "\n",
    "Priorities for these items must still be found to organize the sticker attachment efforts: here, they are 18 (r) for the first group and 52 (Z) for the second group. The sum of these is 70.\n",
    "\n",
    "Find the item type that corresponds to the badges of each three-Elf group. What is the sum of the priorities of those item types?"
   ]
  },
  {
   "cell_type": "code",
   "execution_count": 78,
   "metadata": {},
   "outputs": [],
   "source": [
    "# we will use total_badge_priority to keep track of the running total\n",
    "total_badge_priority = 0\n",
    "\n",
    "# we need to know the total number of rucksacks size of elf groups\n",
    "number_of_rucksacks = len(rucksacks)\n",
    "group_size = 3\n",
    "\n",
    "# loop through each group of elfs\n",
    "for i in range(0, number_of_rucksacks, group_size):\n",
    "\n",
    "    # find the groups badge by finding the item common to add elfs in the group\n",
    "    badge = set(rucksacks[i]) & \\\n",
    "            set(rucksacks[i+1]) & \\\n",
    "            set(rucksacks[i+2]) \n",
    "    \n",
    "    # add the priority of the badge item to the running total\n",
    "    total_badge_priority += item_priority[badge.pop()]"
   ]
  },
  {
   "cell_type": "code",
   "execution_count": 79,
   "metadata": {},
   "outputs": [
    {
     "name": "stdout",
     "output_type": "stream",
     "text": [
      "The sum of the priorities corresponding to the badges of each three-Elf group 2650.\n"
     ]
    }
   ],
   "source": [
    "msg = 'The sum of the priorities corresponding to the badges of each three-Elf group {total_badge_priority}.'\n",
    "print(msg.format(total_badge_priority=total_badge_priority))"
   ]
  }
 ],
 "metadata": {
  "kernelspec": {
   "display_name": "Python 3.10.8 ('aoc')",
   "language": "python",
   "name": "python3"
  },
  "language_info": {
   "codemirror_mode": {
    "name": "ipython",
    "version": 3
   },
   "file_extension": ".py",
   "mimetype": "text/x-python",
   "name": "python",
   "nbconvert_exporter": "python",
   "pygments_lexer": "ipython3",
   "version": "3.10.8"
  },
  "orig_nbformat": 4,
  "vscode": {
   "interpreter": {
    "hash": "52ad416f76a6efa5a69d7566ebc8421c5a342435fb751d62e29cc6b08ddad190"
   }
  }
 },
 "nbformat": 4,
 "nbformat_minor": 2
}
