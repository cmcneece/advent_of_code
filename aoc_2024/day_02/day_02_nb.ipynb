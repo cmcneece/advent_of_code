{
 "cells": [
  {
   "cell_type": "code",
   "execution_count": 51,
   "metadata": {},
   "outputs": [],
   "source": [
    "import pathlib\n",
    "import os"
   ]
  },
  {
   "cell_type": "code",
   "execution_count": 52,
   "metadata": {},
   "outputs": [],
   "source": [
    "def get_reports(data):\n",
    "    reports = []\n",
    "    for report in data:\n",
    "        levels = [int(level) for level in report.split()]\n",
    "        reports.append(levels)\n",
    "    return reports"
   ]
  },
  {
   "cell_type": "code",
   "execution_count": null,
   "metadata": {},
   "outputs": [],
   "source": [
    "def int_sign(number):\n",
    "   if (number>0):\n",
    "      return 1\n",
    "   elif (number<0):\n",
    "      return -1\n",
    "   else:\n",
    "      return 0"
   ]
  },
  {
   "cell_type": "code",
   "execution_count": 53,
   "metadata": {},
   "outputs": [],
   "source": [
    "def part_1(reports, verbose=True):\n",
    "\n",
    "    safe_count = 0\n",
    "    report_length = len(reports[0])\n",
    "    for report in reports:\n",
    "        sign = int_sign(report[0] - report[1])\n",
    "        for count in range(report_length):\n",
    "            delta = report[count]-report[count+1]\n",
    "            if int_sign(delta) != sign | abs(delta) > 2:\n",
    "                continue\n",
    "            safe_count += 1\n",
    "\n",
    "    return deltas"
   ]
  },
  {
   "cell_type": "code",
   "execution_count": 54,
   "metadata": {},
   "outputs": [],
   "source": [
    "def part_2(data, verbose=True):\n",
    "    left, right = get_reports(data)\n",
    "    right_count = collections.Counter(right)\n",
    "\n",
    "    sim_scores = []\n",
    "    for item in left:\n",
    "        sim_scores.append(item * right_count[item])\n",
    "\n",
    "    part_2_answer = sum(sim_scores)\n",
    "\n",
    "    if verbose:\n",
    "        print(\"--- Part 2 ---\\r\")\n",
    "        part_2_msg = f\"The similarity score is: {part_2_answer}\"\n",
    "        print(part_2_msg)\n",
    "\n",
    "    return part_2_answer\n"
   ]
  },
  {
   "cell_type": "code",
   "execution_count": 55,
   "metadata": {},
   "outputs": [
    {
     "name": "stdout",
     "output_type": "stream",
     "text": [
      "5\n",
      "7 0\n",
      "6 1\n",
      "4 2\n",
      "2 3\n",
      "1 4\n",
      "1 0\n",
      "2 1\n",
      "7 2\n",
      "8 3\n",
      "9 4\n",
      "9 0\n",
      "7 1\n",
      "6 2\n",
      "2 3\n",
      "1 4\n",
      "1 0\n",
      "3 1\n",
      "2 2\n",
      "4 3\n",
      "5 4\n",
      "8 0\n",
      "6 1\n",
      "4 2\n",
      "4 3\n",
      "1 4\n",
      "1 0\n",
      "3 1\n",
      "6 2\n",
      "7 3\n",
      "9 4\n"
     ]
    }
   ],
   "source": [
    "INPUT_FILE = 'test_input.txt'\n",
    "INPUT_PATH = os.path.join(INPUT_FILE)\n",
    "with open(INPUT_PATH, 'r') as f:\n",
    "    data = f.read().splitlines()\n",
    "\n",
    "reports = get_reports(data)\n",
    "# Part 1\n",
    "part_1_answer = part_1(reports, verbose=False)\n"
   ]
  },
  {
   "cell_type": "code",
   "execution_count": 59,
   "metadata": {},
   "outputs": [
    {
     "name": "stdout",
     "output_type": "stream",
     "text": [
      "1\n",
      "2\n",
      "2\n",
      "1\n"
     ]
    },
    {
     "ename": "IndexError",
     "evalue": "list index out of range",
     "output_type": "error",
     "traceback": [
      "\u001b[0;31m---------------------------------------------------------------------------\u001b[0m",
      "\u001b[0;31mIndexError\u001b[0m                                Traceback (most recent call last)",
      "Cell \u001b[0;32mIn[59], line 6\u001b[0m\n\u001b[1;32m      4\u001b[0m \u001b[39mfor\u001b[39;00m count \u001b[39min\u001b[39;00m \u001b[39mrange\u001b[39m(report_length):\n\u001b[1;32m      5\u001b[0m     \u001b[39mif\u001b[39;00m count \u001b[39m<\u001b[39m report_length:\n\u001b[0;32m----> 6\u001b[0m         \u001b[39mprint\u001b[39m(report[count]\u001b[39m-\u001b[39mreport[count\u001b[39m+\u001b[39;49m\u001b[39m1\u001b[39;49m])\n",
      "\u001b[0;31mIndexError\u001b[0m: list index out of range"
     ]
    }
   ],
   "source": [
    "report_length = len(reports[0])\n",
    "for report in reports:\n",
    "    deltas = []\n",
    "    for count in range(report_length):\n",
    "        if count < report_length:\n",
    "            deltas.append(report[count]-report[count+1])"
   ]
  },
  {
   "cell_type": "code",
   "execution_count": 58,
   "metadata": {},
   "outputs": [
    {
     "data": {
      "text/plain": [
       "7"
      ]
     },
     "execution_count": 58,
     "metadata": {},
     "output_type": "execute_result"
    }
   ],
   "source": [
    "level"
   ]
  }
 ],
 "metadata": {
  "kernelspec": {
   "display_name": "Python 3",
   "language": "python",
   "name": "python3"
  },
  "language_info": {
   "codemirror_mode": {
    "name": "ipython",
    "version": 3
   },
   "file_extension": ".py",
   "mimetype": "text/x-python",
   "name": "python",
   "nbconvert_exporter": "python",
   "pygments_lexer": "ipython3",
   "version": "3.11.4"
  },
  "orig_nbformat": 4
 },
 "nbformat": 4,
 "nbformat_minor": 2
}
