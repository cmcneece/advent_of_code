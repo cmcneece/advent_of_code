{
 "cells": [
  {
   "cell_type": "code",
   "execution_count": 246,
   "metadata": {},
   "outputs": [],
   "source": [
    "import pathlib\n",
    "import os\n",
    "\n",
    "import re"
   ]
  },
  {
   "cell_type": "code",
   "execution_count": 247,
   "metadata": {},
   "outputs": [],
   "source": [
    "MUL_PATTERN = \"mul\\(\\d{1,3},\\d{1,3}\\)\"\n",
    "DIGIT_PATTERN = \"\\d{1,3}\"\n",
    "DONT_PATTERN = \"don\\'t\\(\\)\"\n",
    "DO_PATTERN = \"do\\(\\)\"\n",
    "\n",
    "FULL_INSTRUCTION_PATTERN = \"|\".join([MUL_PATTERN, DONT_PATTERN, DO_PATTERN])"
   ]
  },
  {
   "cell_type": "code",
   "execution_count": 248,
   "metadata": {},
   "outputs": [
    {
     "data": {
      "text/plain": [
       "\"mul\\\\(\\\\d{1,3},\\\\d{1,3}\\\\)|don't\\\\(\\\\)|do\\\\(\\\\)\""
      ]
     },
     "execution_count": 248,
     "metadata": {},
     "output_type": "execute_result"
    }
   ],
   "source": [
    "FULL_INSTRUCTION_PATTERN"
   ]
  },
  {
   "cell_type": "code",
   "execution_count": 249,
   "metadata": {},
   "outputs": [],
   "source": [
    "def find_valid_muls(input):\n",
    "    matches = re.findall(MUL_PATTERN, input)\n",
    "    return matches"
   ]
  },
  {
   "cell_type": "code",
   "execution_count": 250,
   "metadata": {},
   "outputs": [],
   "source": [
    "def parse_memory(input):\n",
    "    matches = re.findall(FULL_INSTRUCTION_PATTERN, input)\n",
    "    return matches"
   ]
  },
  {
   "cell_type": "code",
   "execution_count": 251,
   "metadata": {},
   "outputs": [],
   "source": [
    "def proccess_matches_2(matches):\n",
    "    instructions = []\n",
    "    for match in matches:\n",
    "        pairs = re.findall(DIGIT_PATTERN, match)\n",
    "        if pairs:\n",
    "            instructions.append((int(pairs[0]), int(pairs[1])))\n",
    "        else:\n",
    "            instructions.append(match)\n",
    "\n",
    "    return instructions"
   ]
  },
  {
   "cell_type": "code",
   "execution_count": 252,
   "metadata": {},
   "outputs": [],
   "source": [
    "def proccess_matches_1(matches):\n",
    "    mul_pairs = []\n",
    "    for match in matches:\n",
    "        pairs = re.findall(DIGIT_PATTERN, match)\n",
    "        mul_pairs.append((int(pairs[0]), int(pairs[1])))\n",
    "\n",
    "    return mul_pairs"
   ]
  },
  {
   "cell_type": "code",
   "execution_count": 253,
   "metadata": {},
   "outputs": [],
   "source": [
    "def product_sum(pairs):\n",
    "    cum_sum = 0\n",
    "    for pair in pairs:\n",
    "        cum_sum += pair[0] * pair[1]\n",
    "    return cum_sum"
   ]
  },
  {
   "cell_type": "code",
   "execution_count": 254,
   "metadata": {},
   "outputs": [],
   "source": [
    "def product_sum_2(instructions):\n",
    "    cum_sum = 0\n",
    "    do = True\n",
    "    for instruction in instructions:\n",
    "        if instruction == \"don't()\":\n",
    "            do = False\n",
    "            continue\n",
    "        if instruction == \"do()\":\n",
    "            do = True\n",
    "            continue\n",
    "        if do:\n",
    "            cum_sum += instruction[0] * instruction[1]\n",
    "\n",
    "    return cum_sum"
   ]
  },
  {
   "cell_type": "code",
   "execution_count": 255,
   "metadata": {},
   "outputs": [],
   "source": [
    "def part_1(input):\n",
    "    mul_matches = find_valid_muls(input=input)\n",
    "    pairs = proccess_matches_1(matches=mul_matches)\n",
    "    cum_sum = product_sum(pairs=pairs)\n",
    "\n",
    "    return cum_sum"
   ]
  },
  {
   "cell_type": "code",
   "execution_count": 256,
   "metadata": {},
   "outputs": [],
   "source": [
    "def part_2(input):\n",
    "    mul_matches = parse_memory(input=input)\n",
    "    pairs = proccess_matches_2(matches=mul_matches)\n",
    "    cum_sum = product_sum_2(instructions=pairs)\n",
    "\n",
    "    return cum_sum"
   ]
  },
  {
   "cell_type": "code",
   "execution_count": 257,
   "metadata": {},
   "outputs": [],
   "source": [
    "INPUT_FILE = 'test_input_part_2.txt'\n",
    "INPUT_PATH = os.path.join(INPUT_FILE)\n",
    "\n",
    "with open(INPUT_PATH, 'r') as f:\n",
    "    input = f.read()"
   ]
  },
  {
   "cell_type": "code",
   "execution_count": 258,
   "metadata": {},
   "outputs": [
    {
     "data": {
      "text/plain": [
       "161"
      ]
     },
     "execution_count": 258,
     "metadata": {},
     "output_type": "execute_result"
    }
   ],
   "source": [
    "part_1_answer = part_1(input=input)\n",
    "part_1_answer"
   ]
  },
  {
   "cell_type": "code",
   "execution_count": 259,
   "metadata": {},
   "outputs": [
    {
     "name": "stdout",
     "output_type": "stream",
     "text": [
      "(2, 4)\n",
      "(8, 5)\n"
     ]
    },
    {
     "data": {
      "text/plain": [
       "48"
      ]
     },
     "execution_count": 259,
     "metadata": {},
     "output_type": "execute_result"
    }
   ],
   "source": [
    "part_2_answer = part_2(input=input)\n",
    "part_2_answer"
   ]
  },
  {
   "cell_type": "code",
   "execution_count": 260,
   "metadata": {},
   "outputs": [
    {
     "data": {
      "text/plain": [
       "\"xmul(2,4)&mul[3,7]!^don't()_mul(5,5)+mul(32,64](mul(11,8)undo()?mul(8,5))\""
      ]
     },
     "execution_count": 260,
     "metadata": {},
     "output_type": "execute_result"
    }
   ],
   "source": [
    "input"
   ]
  }
 ],
 "metadata": {
  "kernelspec": {
   "display_name": "Python 3",
   "language": "python",
   "name": "python3"
  },
  "language_info": {
   "codemirror_mode": {
    "name": "ipython",
    "version": 3
   },
   "file_extension": ".py",
   "mimetype": "text/x-python",
   "name": "python",
   "nbconvert_exporter": "python",
   "pygments_lexer": "ipython3",
   "version": "3.11.4"
  },
  "orig_nbformat": 4
 },
 "nbformat": 4,
 "nbformat_minor": 2
}
