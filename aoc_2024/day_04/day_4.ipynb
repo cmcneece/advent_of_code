{
 "cells": [
  {
   "cell_type": "code",
   "execution_count": 523,
   "metadata": {},
   "outputs": [],
   "source": [
    "import re\n",
    "import itertools"
   ]
  },
  {
   "cell_type": "code",
   "execution_count": null,
   "metadata": {},
   "outputs": [],
   "source": [
    "XMAS_PATTERN = r\"XMAS\"\n",
    "SAMX_PATTERN = r\"SAMX\""
   ]
  },
  {
   "cell_type": "code",
   "execution_count": 524,
   "metadata": {},
   "outputs": [],
   "source": [
    "def find_matches(input, pattern=\"XMAS\"):\n",
    "\n",
    "    forward_pattern = r\"\" + pattern\n",
    "    backward_pattern = forward_pattern[::-1]\n",
    "\n",
    "    count = 0\n",
    "    locations = []\n",
    "    matches = []\n",
    "    for row in input:\n",
    "        forward_matches = re.finditer(forward_pattern, row)\n",
    "        backward_matches = re.finditer(backward_pattern, row)\n",
    "        \n",
    "        matches.append(forward_matches)\n",
    "        matches.append(backward_matches)\n",
    "\n",
    "        f_loc = [match.span()[0]+1 for match in forward_matches]\n",
    "        b_loc = [match.span()[0]+1 for match in backward_matches]\n",
    "\n",
    "        locations.append(f_loc)\n",
    "        locations.append(b_loc)\n",
    "\n",
    "        count += len(f_loc)\n",
    "        count += len(b_loc)\n",
    "    \n",
    "    return count, locations\n",
    "\n",
    "def horizontal_unwrap(puzzle):\n",
    "    return puzzle\n",
    "\n",
    "def vertical_unwrap(puzzle):\n",
    "    unpack_transpored = list(map(list, zip(*puzzle)))\n",
    "    packed_transposed = []\n",
    "    for row in unpack_transpored:\n",
    "        packed_transposed.append(\"\".join(row[:]))\n",
    "    return packed_transposed\n",
    "\n",
    "def diagonal_unwrap(puzzle):\n",
    "    unpacked = list(map(list, puzzle))\n",
    "    row_count = len(unpacked)\n",
    "    col_count = len(unpacked[0])\n",
    "\n",
    "    row_index = range(0, row_count)\n",
    "    col_index = range(0, col_count)\n",
    "\n",
    "    packed = []\n",
    "    # lower left - southeast direction\n",
    "    ll_se_indicies = []\n",
    "    ll_se_unwrapped = []\n",
    "    for row in range(0, row_count):\n",
    "        content = []\n",
    "        indicies = []\n",
    "        for i,j in zip(row_index, col_index):\n",
    "            if (j <= col_count-1) & (i+row <= row_count-1):\n",
    "                content.append(unpacked[i+row][j])\n",
    "                indicies.append((i+row,j))\n",
    "        ll_se_unwrapped.append(content)\n",
    "        ll_se_indicies.append(indicies)\n",
    "    \n",
    "    # upper right - southeast direction\n",
    "    ur_se_indicies = []\n",
    "    ur_se_unwrapped = []\n",
    "    for col in range(1, col_count):\n",
    "        content = []\n",
    "        indicies = []\n",
    "        for i,j in zip(row_index, col_index):\n",
    "            if (j+col <= col_count-1) & (i <= row_count-1):\n",
    "                content.append(unpacked[i][j+col])\n",
    "                indicies.append((i,j+col))\n",
    "        ur_se_unwrapped.append(content)\n",
    "        ur_se_indicies.append(indicies)\n",
    "\n",
    "    row_index = range(row_count-1, -1, -1)\n",
    "    col_index = range(0, col_count, 1)\n",
    "\n",
    "    # lower left - northeast direction\n",
    "    ll_ne_indicies = []\n",
    "    ll_ne_unwrapped = []\n",
    "    for row in range(0, row_count):\n",
    "        content = []\n",
    "        indicies = []\n",
    "        for i,j in zip(row_index, col_index):\n",
    "            if (j <= col_count-1) & (i-row >= 0):\n",
    "                content.append(unpacked[i-row][j])\n",
    "                indicies.append((i-row,j))\n",
    "        ll_ne_unwrapped.append(content)\n",
    "        ll_ne_indicies.append(indicies)\n",
    "\n",
    "    # upper right - northeast direction\n",
    "    ur_ne_indicies = []\n",
    "    ur_ne_unwrapped = []\n",
    "    for col in range(1, col_count):\n",
    "        content = []\n",
    "        indicies = []\n",
    "        for i,j in zip(row_index, col_index):\n",
    "            if (j+col <= col_count-1) & (i >= 0):\n",
    "                content.append(unpacked[i][j+col])\n",
    "                indicies.append((i,j+col))\n",
    "        ur_ne_unwrapped.append(content)\n",
    "        ur_ne_indicies.append(indicies)\n",
    "\n",
    "    packed = ll_se_unwrapped + ur_se_unwrapped + ll_ne_unwrapped + ur_ne_unwrapped\n",
    "    indicies = ll_se_indicies + ur_se_indicies + ll_ne_indicies + ur_ne_indicies\n",
    "\n",
    "    joined = [\"\".join(row) for row in packed]\n",
    "        \n",
    "    return joined, indicies"
   ]
  },
  {
   "cell_type": "code",
   "execution_count": 526,
   "metadata": {},
   "outputs": [],
   "source": []
  },
  {
   "cell_type": "code",
   "execution_count": 527,
   "metadata": {},
   "outputs": [],
   "source": [
    "def print_puzzle(puzzle):\n",
    "    for row in puzzle:\n",
    "        print(row)"
   ]
  },
  {
   "cell_type": "code",
   "execution_count": 528,
   "metadata": {},
   "outputs": [],
   "source": [
    "def part_1(puzzle):\n",
    "    horizontal_puzzle = horizontal_unwrap(puzzle)\n",
    "    vertical_puzzle = vertical_unwrap(puzzle)\n",
    "    diagonal_puzzle, _ = diagonal_unwrap(puzzle)\n",
    "\n",
    "    horizontal_count, _ = find_matches(horizontal_puzzle, pattern=\"XMAS\")\n",
    "    vertical_count, _ = find_matches(vertical_puzzle, pattern=\"XMAS\")\n",
    "    diagonal_count, _ = find_matches(diagonal_puzzle, pattern=\"XMAS\")\n",
    "    \n",
    "    total_count = horizontal_count + vertical_count + diagonal_count\n",
    "\n",
    "    return total_count"
   ]
  },
  {
   "cell_type": "code",
   "execution_count": 529,
   "metadata": {},
   "outputs": [],
   "source": [
    "def overlapping_as(indicies, a_locations):\n",
    "    a_as_indicies = []\n",
    "    for location in a_locations:\n",
    "        a_as_indicies.append(indicies[location[0][location[1]]])\n",
    "\n",
    "    return a_as_indicies"
   ]
  },
  {
   "cell_type": "code",
   "execution_count": 530,
   "metadata": {},
   "outputs": [],
   "source": [
    "def part_2(puzzle):\n",
    "    diagonal_puzzle, indicies = diagonal_unwrap(puzzle)\n",
    "\n",
    "    _, a_locations = find_matches(diagonal_puzzle, pattern=\"MAS\")\n",
    "    \n",
    "    a_as_indicies =  overlapping_as(indicies, a_locations)\n",
    "\n",
    "    return None"
   ]
  },
  {
   "cell_type": "code",
   "execution_count": 531,
   "metadata": {},
   "outputs": [
    {
     "name": "stdout",
     "output_type": "stream",
     "text": [
      "18\n"
     ]
    }
   ],
   "source": [
    "INPUT_FILE = 'test_input.txt'\n",
    "with open(INPUT_FILE, 'r') as f:\n",
    "    input = f.read().splitlines()\n",
    "\n",
    "part_1_answer = part_1(input)\n",
    "print(part_1_answer)"
   ]
  },
  {
   "cell_type": "code",
   "execution_count": 532,
   "metadata": {},
   "outputs": [
    {
     "ename": "IndexError",
     "evalue": "list index out of range",
     "output_type": "error",
     "traceback": [
      "\u001b[0;31m---------------------------------------------------------------------------\u001b[0m",
      "\u001b[0;31mIndexError\u001b[0m                                Traceback (most recent call last)",
      "Cell \u001b[0;32mIn[532], line 5\u001b[0m\n\u001b[1;32m      1\u001b[0m diagonal_puzzle, indicies \u001b[39m=\u001b[39m diagonal_unwrap(\u001b[39minput\u001b[39m)\n\u001b[1;32m      3\u001b[0m _, a_locations \u001b[39m=\u001b[39m find_matches(diagonal_puzzle, pattern\u001b[39m=\u001b[39m\u001b[39m\"\u001b[39m\u001b[39mMAS\u001b[39m\u001b[39m\"\u001b[39m)\n\u001b[0;32m----> 5\u001b[0m a_as_indicies \u001b[39m=\u001b[39m  overlapping_as(indicies, a_locations)\n",
      "Cell \u001b[0;32mIn[529], line 4\u001b[0m, in \u001b[0;36moverlapping_as\u001b[0;34m(indicies, a_locations)\u001b[0m\n\u001b[1;32m      2\u001b[0m a_as_indicies \u001b[39m=\u001b[39m []\n\u001b[1;32m      3\u001b[0m \u001b[39mfor\u001b[39;00m location \u001b[39min\u001b[39;00m a_locations:\n\u001b[0;32m----> 4\u001b[0m     a_as_indicies\u001b[39m.\u001b[39mappend(indicies[location[\u001b[39m0\u001b[39;49m][location[\u001b[39m1\u001b[39m]]])\n\u001b[1;32m      6\u001b[0m \u001b[39mreturn\u001b[39;00m a_as_indicies\n",
      "\u001b[0;31mIndexError\u001b[0m: list index out of range"
     ]
    }
   ],
   "source": [
    "diagonal_puzzle, indicies = diagonal_unwrap(input)\n",
    "\n",
    "_, a_locations = find_matches(diagonal_puzzle, pattern=\"MAS\")\n",
    "\n",
    "a_as_indicies =  overlapping_as(indicies, a_locations)"
   ]
  },
  {
   "cell_type": "code",
   "execution_count": 534,
   "metadata": {},
   "outputs": [
    {
     "data": {
      "text/plain": [
       "[[],\n",
       " [7],\n",
       " [2, 5],\n",
       " [],\n",
       " [],\n",
       " [2, 5],\n",
       " [],\n",
       " [],\n",
       " [],\n",
       " [3],\n",
       " [],\n",
       " [],\n",
       " [],\n",
       " [1],\n",
       " [],\n",
       " [1],\n",
       " [],\n",
       " [],\n",
       " [],\n",
       " [],\n",
       " [1],\n",
       " [3],\n",
       " [],\n",
       " [],\n",
       " [],\n",
       " [],\n",
       " [2],\n",
       " [],\n",
       " [],\n",
       " [2],\n",
       " [],\n",
       " [],\n",
       " [],\n",
       " [],\n",
       " [],\n",
       " [],\n",
       " [],\n",
       " [],\n",
       " [7],\n",
       " [],\n",
       " [1, 4],\n",
       " [6],\n",
       " [2],\n",
       " [4],\n",
       " [],\n",
       " [],\n",
       " [2],\n",
       " [],\n",
       " [],\n",
       " [],\n",
       " [2],\n",
       " [],\n",
       " [],\n",
       " [],\n",
       " [],\n",
       " [],\n",
       " [],\n",
       " [],\n",
       " [2],\n",
       " [],\n",
       " [],\n",
       " [],\n",
       " [2],\n",
       " [4],\n",
       " [],\n",
       " [],\n",
       " [2],\n",
       " [],\n",
       " [2],\n",
       " [],\n",
       " [],\n",
       " [],\n",
       " [],\n",
       " [],\n",
       " [],\n",
       " []]"
      ]
     },
     "execution_count": 534,
     "metadata": {},
     "output_type": "execute_result"
    }
   ],
   "source": [
    "a_locations"
   ]
  },
  {
   "cell_type": "code",
   "execution_count": 535,
   "metadata": {},
   "outputs": [
    {
     "data": {
      "text/plain": [
       "['MSXMAXSAMX',\n",
       " 'MMASMASMS',\n",
       " 'ASAMSAMA',\n",
       " 'MMAMMXM',\n",
       " 'XXSAMX',\n",
       " 'XMXMA',\n",
       " 'SAMX',\n",
       " 'SAM',\n",
       " 'MX',\n",
       " 'M',\n",
       " 'MASAMXXAM',\n",
       " 'MMXSXASA',\n",
       " 'SXMMAMS',\n",
       " 'XMASMA',\n",
       " 'XSAMM',\n",
       " 'MMMX',\n",
       " 'ASM',\n",
       " 'SA',\n",
       " 'M',\n",
       " 'MAXMMMMASM',\n",
       " 'MASMASAMS',\n",
       " 'SMASAMSA',\n",
       " 'SXAMXMM',\n",
       " 'XMASXX',\n",
       " 'XSXMX',\n",
       " 'MMAS',\n",
       " 'ASM',\n",
       " 'MM',\n",
       " 'M',\n",
       " 'XMASXXSMA',\n",
       " 'MMMAXAMM',\n",
       " 'XMASAMX',\n",
       " 'AXSXMM',\n",
       " 'XMASA',\n",
       " 'MMAS',\n",
       " 'AMA',\n",
       " 'SM',\n",
       " 'X']"
      ]
     },
     "execution_count": 535,
     "metadata": {},
     "output_type": "execute_result"
    }
   ],
   "source": [
    "diagonal_puzzle"
   ]
  },
  {
   "cell_type": "code",
   "execution_count": null,
   "metadata": {},
   "outputs": [],
   "source": [
    "for test in samx_matches:\n",
    "    print(test.string)"
   ]
  }
 ],
 "metadata": {
  "kernelspec": {
   "display_name": "Python 3",
   "language": "python",
   "name": "python3"
  },
  "language_info": {
   "codemirror_mode": {
    "name": "ipython",
    "version": 3
   },
   "file_extension": ".py",
   "mimetype": "text/x-python",
   "name": "python",
   "nbconvert_exporter": "python",
   "pygments_lexer": "ipython3",
   "version": "3.11.4"
  },
  "orig_nbformat": 4
 },
 "nbformat": 4,
 "nbformat_minor": 2
}
