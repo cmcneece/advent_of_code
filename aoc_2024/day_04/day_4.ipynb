{
 "cells": [
  {
   "cell_type": "code",
   "execution_count": null,
   "metadata": {},
   "outputs": [],
   "source": [
    "import re"
   ]
  },
  {
   "cell_type": "code",
   "execution_count": null,
   "metadata": {},
   "outputs": [],
   "source": [
    "XMAS_PATTERN = r\"xmas|samx\"\n",
    "\n",
    "\n",
    "def find_xmas(input):\n",
    "    matches = re.findall(XMAS_PATTERN, input)\n",
    "    return matches\n",
    "\n",
    "def unwrap_puzzle(puzzle):\n",
    "    "
   ]
  }
 ],
 "metadata": {
  "language_info": {
   "name": "python"
  },
  "orig_nbformat": 4
 },
 "nbformat": 4,
 "nbformat_minor": 2
}
