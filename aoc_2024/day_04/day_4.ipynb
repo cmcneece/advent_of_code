{
 "cells": [
  {
   "cell_type": "code",
   "execution_count": 181,
   "metadata": {},
   "outputs": [],
   "source": [
    "import re"
   ]
  },
  {
   "cell_type": "code",
   "execution_count": 182,
   "metadata": {},
   "outputs": [],
   "source": [
    "XMAS_PATTERN = r\"XMAS\"\n",
    "SAMX_PATTERN = r\"SAMX\"\n",
    "\n",
    "def find_xmas(input):\n",
    "    count = 0\n",
    "    for row in input:\n",
    "        xmas_matches = re.findall(XMAS_PATTERN, row)\n",
    "        samx_matches = re.findall(SAMX_PATTERN, row)\n",
    "        count += len(xmas_matches + samx_matches)\n",
    "    return count\n",
    "\n",
    "def horizontal_unwrap(puzzle):\n",
    "    return puzzle\n",
    "\n",
    "def vertical_unwrap(puzzle):\n",
    "    unpack_transpored = list(map(list, zip(*puzzle)))\n",
    "    packed_transposed = []\n",
    "    for row in unpack_transpored:\n",
    "        packed_transposed.append(\"\".join(row[:]))\n",
    "    return packed_transposed\n",
    "\n",
    "def diagonal_unwrap(puzzle):\n",
    "    unpacked = list(map(list, puzzle))\n",
    "    row_count = len(unpacked)\n",
    "    col_count = len(unpacked[0])\n",
    "\n",
    "    packed = []\n",
    "    row_index = range(0, row_count)\n",
    "    col_index = range(0, col_count)\n",
    "\n",
    "    # lower left - southeast direction\n",
    "    for row in range(0, row_count):\n",
    "        packed.append([unpacked[i+row][j] for \\\n",
    "                    i,j in zip(row_index, col_index) if \\\n",
    "                        (j <= col_count-1) & (i+row <= row_count-1)])\n",
    "\n",
    "    # upper right - southeast direction\n",
    "    for col in range(1, col_count):\n",
    "        packed.append([unpacked[i][j+col] for \\\n",
    "                    i,j in zip(row_index, col_index) if \\\n",
    "                        (j+col <= col_count-1) & (i <= row_count-1)])\n",
    "\n",
    "    row_index = range(row_count-1, -1, -1)\n",
    "    col_index = range(col_count-1, -1, -1)\n",
    "\n",
    "    # lower left - northeast direction\n",
    "    for row in range(0, row_count):\n",
    "        packed.append([unpacked[i-row][j] for \\\n",
    "                    i,j in zip(row_index, col_index) if \\\n",
    "                        (j >= 0) & (i-row >= 0)])\n",
    "\n",
    "    # upper right - northeast direction\n",
    "    for col in range(1, col_count):\n",
    "        packed.append([unpacked[i][j-col] for \\\n",
    "                    i,j in zip(row_index, col_index) if \\\n",
    "                        (j-col >= 0) & (i >= 0)])\n",
    "\n",
    "    joined = [\"\".join(row) for row in packed]\n",
    "        \n",
    "    return joined"
   ]
  },
  {
   "cell_type": "code",
   "execution_count": 183,
   "metadata": {},
   "outputs": [],
   "source": [
    "INPUT_FILE = 'input.txt'\n",
    "with open(INPUT_FILE, 'r') as f:\n",
    "    input = f.read().splitlines()"
   ]
  },
  {
   "cell_type": "code",
   "execution_count": 184,
   "metadata": {},
   "outputs": [],
   "source": [
    "def part_1(puzzle):\n",
    "    horizontal_puzzle = horizontal_unwrap(puzzle)\n",
    "    vertical_puzzle = vertical_unwrap(puzzle)\n",
    "    diagonal_puzzle = diagonal_unwrap(puzzle)\n",
    "\n",
    "    horizontal_count = find_xmas(horizontal_puzzle)\n",
    "    vertical_count = find_xmas(vertical_puzzle)\n",
    "    diagonal_count = find_xmas(diagonal_puzzle)\n",
    "    \n",
    "    total_count = horizontal_count + vertical_count + diagonal_count\n",
    "\n",
    "    return total_count"
   ]
  },
  {
   "cell_type": "code",
   "execution_count": 185,
   "metadata": {},
   "outputs": [
    {
     "name": "stdout",
     "output_type": "stream",
     "text": [
      "18\n"
     ]
    }
   ],
   "source": [
    "part_1_answer = part_1(input)\n",
    "print(part_1_answer)"
   ]
  }
 ],
 "metadata": {
  "kernelspec": {
   "display_name": "Python 3",
   "language": "python",
   "name": "python3"
  },
  "language_info": {
   "codemirror_mode": {
    "name": "ipython",
    "version": 3
   },
   "file_extension": ".py",
   "mimetype": "text/x-python",
   "name": "python",
   "nbconvert_exporter": "python",
   "pygments_lexer": "ipython3",
   "version": "3.11.4"
  },
  "orig_nbformat": 4
 },
 "nbformat": 4,
 "nbformat_minor": 2
}
