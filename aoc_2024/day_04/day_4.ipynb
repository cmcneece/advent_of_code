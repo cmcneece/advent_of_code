{
 "cells": [
  {
   "cell_type": "code",
   "execution_count": 357,
   "metadata": {},
   "outputs": [],
   "source": [
    "import re\n",
    "import itertools"
   ]
  },
  {
   "cell_type": "code",
   "execution_count": 358,
   "metadata": {},
   "outputs": [],
   "source": [
    "XMAS_PATTERN = r\"XMAS\"\n",
    "SAMX_PATTERN = r\"SAMX\"\n",
    "\n",
    "\n",
    "def find_matches(input, pattern=\"XMAS\"):\n",
    "\n",
    "    forward_pattern = r\"\" + pattern\n",
    "    backward_pattern = forward_pattern[::-1]\n",
    "\n",
    "    count = 0\n",
    "    locations = []\n",
    "    for row in input:\n",
    "        xmas_matches = re.finditer(forward_pattern, row)\n",
    "        samx_matches = re.finditer(backward_pattern, row)\n",
    "        \n",
    "        matches = itertools.chain(samx_matches,xmas_matches)\n",
    "        count += len(list(matches))\n",
    "        locations = [match.span()[1] for match in matches]\n",
    "    return count, locations\n",
    "\n",
    "def horizontal_unwrap(puzzle):\n",
    "    return puzzle\n",
    "\n",
    "def vertical_unwrap(puzzle):\n",
    "    unpack_transpored = list(map(list, zip(*puzzle)))\n",
    "    packed_transposed = []\n",
    "    for row in unpack_transpored:\n",
    "        packed_transposed.append(\"\".join(row[:]))\n",
    "    return packed_transposed\n",
    "\n",
    "def diagonal_unwrap(puzzle):\n",
    "    unpacked = list(map(list, puzzle))\n",
    "    row_count = len(unpacked)\n",
    "    col_count = len(unpacked[0])\n",
    "\n",
    "    row_index = range(0, row_count)\n",
    "    col_index = range(0, col_count)\n",
    "\n",
    "    packed = []\n",
    "    # lower left - southeast direction\n",
    "    ll_se_indicies = []\n",
    "    ll_se_unwrapped = []\n",
    "    for row, ind in enumerate(range(0, row_count)):\n",
    "        # packed.append([unpacked[i+row][j] for \\\n",
    "        #             i,j in zip(row_index, col_index) if \\\n",
    "        #                 (j <= col_count-1) & (i+row <= row_count-1)])\n",
    "\n",
    "        content = []\n",
    "        indicies = []\n",
    "        for i,j in zip(row_index, col_index):\n",
    "            if (j <= col_count-1) & (i+row <= row_count-1):\n",
    "                content.append(unpacked[i+row][j])\n",
    "                indicies.append((i+row,j))\n",
    "        ll_se_unwrapped.append(content)\n",
    "        ll_se_indicies.append(indicies)\n",
    "    \n",
    "    # upper right - southeast direction\n",
    "    ur_se_indicies = []\n",
    "    ur_se_unwrapped = []\n",
    "    for col, ind in enumerate(range(1, col_count)):\n",
    "        # packed.append([unpacked[i][j+col] for \\\n",
    "        #             i,j in zip(row_index, col_index) if \\\n",
    "        #                 (j+col <= col_count-1) & (i <= row_count-1)])\n",
    "        content = []\n",
    "        indicies = []\n",
    "        for i,j in zip(row_index, col_index):\n",
    "            if (j+col <= col_count-1) & (i <= row_count-1):\n",
    "                content.append(unpacked[i][j+col])\n",
    "                indicies.append((i,j+col))\n",
    "        ur_se_unwrapped.append(content)\n",
    "        ur_se_indicies.append(indicies)\n",
    "\n",
    "    row_index = range(row_count-1, -1, -1)\n",
    "    col_index = range(0, col_count, 1)\n",
    "\n",
    "    # lower left - northeast direction\n",
    "    ll_ne_indicies = []\n",
    "    ll_ne_unwrapped = []\n",
    "    for row, ind in enumerate(range(0, row_count)):\n",
    "        # packed.append([unpacked[i-row][j] for \\\n",
    "        #             i,j in zip(row_index, col_index) if \\\n",
    "        #                 (j <= col_count-1) & (i-row >= 0)])\n",
    "        content = []\n",
    "        indicies = []\n",
    "        for i,j in zip(row_index, col_index):\n",
    "            if (j <= col_count-1) & (i-row >= 0):\n",
    "                content.append(unpacked[i-row][j])\n",
    "                indicies.append((i-row,j))\n",
    "        ll_ne_unwrapped.append(content)\n",
    "        ll_ne_indicies.append(indicies)\n",
    "\n",
    "    # upper right - northeast direction\n",
    "    ur_ne_indicies = []\n",
    "    ur_ne_unwrapped = []\n",
    "    for col, ind in enumerate(range(1, col_count)):\n",
    "        # packed.append([unpacked[i][j+col] for \\\n",
    "        #             i,j in zip(row_index, col_index) if \\\n",
    "        #                 (j+col <= col_count-1) & (i >= 0)])\n",
    "        content = []\n",
    "        indicies = []\n",
    "        for i,j in zip(row_index, col_index):\n",
    "            if (j+col <= col_count-1) & (i >= 0):\n",
    "                content.append(unpacked[i][j+col])\n",
    "                indicies.append((i,j+col))\n",
    "        ur_ne_unwrapped.append(content)\n",
    "        ur_ne_indicies.append(indicies)\n",
    "\n",
    "    packed = ll_se_unwrapped + ur_se_unwrapped + ll_ne_unwrapped + ur_ne_unwrapped\n",
    "    indicies = ll_se_indicies + ur_se_indicies + ll_ne_indicies + ur_ne_indicies\n",
    "\n",
    "    joined = [\"\".join(row) for row in packed]\n",
    "        \n",
    "    return joined, indicies"
   ]
  },
  {
   "cell_type": "code",
   "execution_count": 359,
   "metadata": {},
   "outputs": [],
   "source": [
    "INPUT_FILE = 'test_input.txt'\n",
    "with open(INPUT_FILE, 'r') as f:\n",
    "    input = f.read().splitlines()"
   ]
  },
  {
   "cell_type": "code",
   "execution_count": 360,
   "metadata": {},
   "outputs": [],
   "source": [
    "def print_puzzle(puzzle):\n",
    "    for row in puzzle:\n",
    "        print(row)"
   ]
  },
  {
   "cell_type": "code",
   "execution_count": 361,
   "metadata": {},
   "outputs": [],
   "source": [
    "def part_1(puzzle):\n",
    "    horizontal_puzzle = horizontal_unwrap(puzzle)\n",
    "    vertical_puzzle = vertical_unwrap(puzzle)\n",
    "    diagonal_puzzle, _ = diagonal_unwrap(puzzle)\n",
    "\n",
    "    horizontal_count, _ = find_matches(horizontal_puzzle, pattern=\"XMAS\")\n",
    "    vertical_count, _ = find_matches(vertical_puzzle, pattern=\"XMAS\")\n",
    "    diagonal_count, _ = find_matches(diagonal_puzzle, pattern=\"XMAS\")\n",
    "    \n",
    "    total_count = horizontal_count + vertical_count + diagonal_count\n",
    "\n",
    "    return total_count"
   ]
  },
  {
   "cell_type": "code",
   "execution_count": 362,
   "metadata": {},
   "outputs": [
    {
     "name": "stdout",
     "output_type": "stream",
     "text": [
      "[['M', 'S', 'X', 'M', 'A', 'X', 'S', 'A', 'M', 'X'], ['M', 'M', 'A', 'S', 'M', 'A', 'S', 'M', 'S'], ['A', 'S', 'A', 'M', 'S', 'A', 'M', 'A'], ['M', 'M', 'A', 'M', 'M', 'X', 'M'], ['X', 'X', 'S', 'A', 'M', 'X'], ['X', 'M', 'X', 'M', 'A'], ['S', 'A', 'M', 'X'], ['S', 'A', 'M'], ['M', 'X'], ['M'], ['M', 'S', 'X', 'M', 'A', 'X', 'S', 'A', 'M', 'X'], ['M', 'A', 'S', 'A', 'M', 'X', 'X', 'A', 'M'], ['M', 'M', 'X', 'S', 'X', 'A', 'S', 'A'], ['S', 'X', 'M', 'M', 'A', 'M', 'S'], ['X', 'M', 'A', 'S', 'M', 'A'], ['X', 'S', 'A', 'M', 'M'], ['M', 'M', 'M', 'X'], ['A', 'S', 'M'], ['S', 'A'], ['M', 'A', 'X', 'M', 'M', 'M', 'M', 'A', 'S', 'M'], ['M', 'A', 'S', 'M', 'A', 'S', 'A', 'M', 'S'], ['S', 'M', 'A', 'S', 'A', 'M', 'S', 'A'], ['S', 'X', 'A', 'M', 'X', 'M', 'M'], ['X', 'M', 'A', 'S', 'X', 'X'], ['X', 'S', 'X', 'M', 'X'], ['M', 'M', 'A', 'S'], ['A', 'S', 'M'], ['M', 'M'], ['M'], ['M', 'A', 'X', 'M', 'M', 'M', 'M', 'A', 'S', 'M'], ['X', 'M', 'A', 'S', 'X', 'X', 'S', 'M', 'A'], ['M', 'M', 'M', 'A', 'X', 'A', 'M', 'M'], ['X', 'M', 'A', 'S', 'A', 'M', 'X'], ['A', 'X', 'S', 'X', 'M', 'M'], ['X', 'M', 'A', 'S', 'A'], ['M', 'M', 'A', 'S'], ['A', 'M', 'A'], ['S', 'M']]\n",
      "['MSXMAXSAMX', 'MMASMASMS', 'ASAMSAMA', 'MMAMMXM', 'XXSAMX', 'XMXMA', 'SAMX', 'SAM', 'MX', 'M', 'MSXMAXSAMX', 'MASAMXXAM', 'MMXSXASA', 'SXMMAMS', 'XMASMA', 'XSAMM', 'MMMX', 'ASM', 'SA', 'MAXMMMMASM', 'MASMASAMS', 'SMASAMSA', 'SXAMXMM', 'XMASXX', 'XSXMX', 'MMAS', 'ASM', 'MM', 'M', 'MAXMMMMASM', 'XMASXXSMA', 'MMMAXAMM', 'XMASAMX', 'AXSXMM', 'XMASA', 'MMAS', 'AMA', 'SM']\n",
      "[[(0, 0), (1, 1), (2, 2), (3, 3), (4, 4), (5, 5), (6, 6), (7, 7), (8, 8), (9, 9)], [(1, 0), (2, 1), (3, 2), (4, 3), (5, 4), (6, 5), (7, 6), (8, 7), (9, 8)], [(2, 0), (3, 1), (4, 2), (5, 3), (6, 4), (7, 5), (8, 6), (9, 7)], [(3, 0), (4, 1), (5, 2), (6, 3), (7, 4), (8, 5), (9, 6)], [(4, 0), (5, 1), (6, 2), (7, 3), (8, 4), (9, 5)], [(5, 0), (6, 1), (7, 2), (8, 3), (9, 4)], [(6, 0), (7, 1), (8, 2), (9, 3)], [(7, 0), (8, 1), (9, 2)], [(8, 0), (9, 1)], [(9, 0)], [(0, 0), (1, 1), (2, 2), (3, 3), (4, 4), (5, 5), (6, 6), (7, 7), (8, 8), (9, 9)], [(0, 1), (1, 2), (2, 3), (3, 4), (4, 5), (5, 6), (6, 7), (7, 8), (8, 9)], [(0, 2), (1, 3), (2, 4), (3, 5), (4, 6), (5, 7), (6, 8), (7, 9)], [(0, 3), (1, 4), (2, 5), (3, 6), (4, 7), (5, 8), (6, 9)], [(0, 4), (1, 5), (2, 6), (3, 7), (4, 8), (5, 9)], [(0, 5), (1, 6), (2, 7), (3, 8), (4, 9)], [(0, 6), (1, 7), (2, 8), (3, 9)], [(0, 7), (1, 8), (2, 9)], [(0, 8), (1, 9)], [(9, 0), (8, 1), (7, 2), (6, 3), (5, 4), (4, 5), (3, 6), (2, 7), (1, 8), (0, 9)], [(8, 0), (7, 1), (6, 2), (5, 3), (4, 4), (3, 5), (2, 6), (1, 7), (0, 8)], [(7, 0), (6, 1), (5, 2), (4, 3), (3, 4), (2, 5), (1, 6), (0, 7)], [(6, 0), (5, 1), (4, 2), (3, 3), (2, 4), (1, 5), (0, 6)], [(5, 0), (4, 1), (3, 2), (2, 3), (1, 4), (0, 5)], [(4, 0), (3, 1), (2, 2), (1, 3), (0, 4)], [(3, 0), (2, 1), (1, 2), (0, 3)], [(2, 0), (1, 1), (0, 2)], [(1, 0), (0, 1)], [(0, 0)], [(9, 0), (8, 1), (7, 2), (6, 3), (5, 4), (4, 5), (3, 6), (2, 7), (1, 8), (0, 9)], [(9, 1), (8, 2), (7, 3), (6, 4), (5, 5), (4, 6), (3, 7), (2, 8), (1, 9)], [(9, 2), (8, 3), (7, 4), (6, 5), (5, 6), (4, 7), (3, 8), (2, 9)], [(9, 3), (8, 4), (7, 5), (6, 6), (5, 7), (4, 8), (3, 9)], [(9, 4), (8, 5), (7, 6), (6, 7), (5, 8), (4, 9)], [(9, 5), (8, 6), (7, 7), (6, 8), (5, 9)], [(9, 6), (8, 7), (7, 8), (6, 9)], [(9, 7), (8, 8), (7, 9)], [(9, 8), (8, 9)]]\n",
      "19\n"
     ]
    }
   ],
   "source": [
    "part_1_answer = part_1(input)\n",
    "print(part_1_answer)"
   ]
  },
  {
   "cell_type": "code",
   "execution_count": 363,
   "metadata": {},
   "outputs": [],
   "source": [
    "test = re.findall(XMAS_PATTERN, input[0])"
   ]
  },
  {
   "cell_type": "code",
   "execution_count": 364,
   "metadata": {},
   "outputs": [
    {
     "name": "stdout",
     "output_type": "stream",
     "text": [
      "XMAS\n"
     ]
    }
   ],
   "source": [
    "for t in test:\n",
    "    print(t)"
   ]
  }
 ],
 "metadata": {
  "kernelspec": {
   "display_name": "Python 3",
   "language": "python",
   "name": "python3"
  },
  "language_info": {
   "codemirror_mode": {
    "name": "ipython",
    "version": 3
   },
   "file_extension": ".py",
   "mimetype": "text/x-python",
   "name": "python",
   "nbconvert_exporter": "python",
   "pygments_lexer": "ipython3",
   "version": "3.11.4"
  },
  "orig_nbformat": 4
 },
 "nbformat": 4,
 "nbformat_minor": 2
}
