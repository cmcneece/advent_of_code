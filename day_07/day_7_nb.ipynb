{
 "cells": [
  {
   "cell_type": "code",
   "execution_count": 2,
   "metadata": {},
   "outputs": [],
   "source": [
    "from dataclasses import dataclass\n",
    "\n",
    "@dataclass\n",
    "class Folder:\n",
    "    \"\"\"Folder item.\"\"\"\n",
    "    name: str\n",
    "    _uid: list # unique identified, the file_path\n",
    "    contents: dict # itemname : Folder or File\n",
    "    _size: int=0\n",
    "\n",
    "    @property\n",
    "    def size(self) -> int:\n",
    "        self._size = 0\n",
    "        for object in self.contents.items():\n",
    "            self._size += object.size\n",
    "        return self._size\n",
    "\n",
    "@dataclass\n",
    "class File:\n",
    "    \"\"\"File item.\"\"\"\n",
    "    name: str\n",
    "    size: int\n",
    "    _uid: list # unique identified, the file_path\n"
   ]
  },
  {
   "cell_type": "code",
   "execution_count": 29,
   "metadata": {},
   "outputs": [],
   "source": [
    "def find_command_indicies(data):\n",
    "    i = 0\n",
    "    command_indicies = []\n",
    "    for line in data:\n",
    "        line_elements = line.split(' ')\n",
    "        if line_elements[0] == '$':\n",
    "            command_indicies.append(i)\n",
    "        i += 1\n",
    "    return command_indicies"
   ]
  },
  {
   "cell_type": "code",
   "execution_count": 18,
   "metadata": {},
   "outputs": [],
   "source": [
    "input_path = 'test_input.txt'\n",
    "with open(input_path, 'r') as f:\n",
    "    data = f.read().splitlines()"
   ]
  },
  {
   "cell_type": "code",
   "execution_count": 33,
   "metadata": {},
   "outputs": [],
   "source": [
    "command_indicies = find_command_indicies(data)\n",
    "\n",
    "# start with a filesystem containing root directory\n",
    "file_system = Folder(name='/', contents={}, _uid=['/'])\n",
    "pwd = file_system._uid\n",
    "working_folder = file_system\n",
    "\n",
    "# econstruct the filesystem given the input\n",
    "for iter_index, command_index in enumerate(command_indicies):\n",
    "    line_elements = data[command_index].split(' ')\n",
    "    command = line_elements[1]\n",
    "\n",
    "    # if there is an ls command we look for any new files or folders\n",
    "    if command == 'ls':\n",
    "\n",
    "        # get the indicies of the command output\n",
    "        if iter_index == len(command_indicies)-1:\n",
    "            break\n",
    "        output_range = range(command_index, command_indicies[iter_index+1])[1:]\n",
    "\n",
    "        # iterate over the outputs of the command\n",
    "        for output_index in output_range:\n",
    "            lead_element = data[output_index].split(' ')[0]\n",
    "\n",
    "            if lead_element == 'dir':\n",
    "                folder_name = data[output_index].split(' ')[1]\n",
    "                uid = p_w_d + [folder_name]\n",
    "  \n",
    "                # if we have already seen the folder move on\n",
    "                if folder_name in working_folder.contents.keys():\n",
    "                    continue\n",
    "                \n",
    "                # otherwise, create the folder\n",
    "                working_folder.contents[folder_name] = Folder(name=folder_name, contents={}, _uid=uid)\n",
    "\n",
    "            else: # must be a file\n",
    "                file_name = data[output_index].split(' ')[1]\n",
    "                file_size = data[output_index].split(' ')[0]\n",
    "                uid = p_w_d + [folder_name]\n",
    "\n",
    "                # if we have already seen the file move on\n",
    "                if file_name in working_folder.contents.keys():\n",
    "                    continue\n",
    "                \n",
    "                # otherwise, create the file\n",
    "                working_folder.contents[file_name] = File(name=file_name, size=file_size, _uid=uid)\n",
    "    \n",
    "    # if there is a cd command we have to move to a different part of the folder structure\n",
    "    elif command == 'cd':\n",
    "\n",
    "        direction = line_elements[2]\n",
    "\n",
    "        if direction == '..':\n",
    "            p_w_d.pop()\n",
    "        elif direction == '/':\n",
    "            p_w_d =['/']\n",
    "        else:\n",
    "            p_w_d.append(direction)\n",
    "\n",
    "    if p_w_d == ['/']:\n",
    "        # special case for going to the root directory\n",
    "        working_folder = file_system      \n",
    "    else:\n",
    "        # find our place \n",
    "        working_folder = file_system\n",
    "        for level in p_w_d[1:]:\n",
    "            working_folder = working_folder.contents[level]\n",
    "    \n",
    "    "
   ]
  },
  {
   "cell_type": "markdown",
   "metadata": {},
   "source": [
    "Find all of the directories with a total size of at most 100000. What is the sum of the total sizes of those directories?"
   ]
  },
  {
   "cell_type": "code",
   "execution_count": 27,
   "metadata": {},
   "outputs": [
    {
     "ename": "AttributeError",
     "evalue": "'tuple' object has no attribute '_uid'",
     "output_type": "error",
     "traceback": [
      "\u001b[0;31m---------------------------------------------------------------------------\u001b[0m",
      "\u001b[0;31mAttributeError\u001b[0m                            Traceback (most recent call last)",
      "Cell \u001b[0;32mIn [27], line 14\u001b[0m\n\u001b[1;32m     11\u001b[0m             \u001b[39myield from\u001b[39;00m traverse(e)\n\u001b[1;32m     13\u001b[0m traverse(file_system\u001b[39m.\u001b[39mcontents)\n\u001b[0;32m---> 14\u001b[0m \u001b[39mfor\u001b[39;00m i \u001b[39min\u001b[39;00m traverse(file_system\u001b[39m.\u001b[39mcontents):\n\u001b[1;32m     15\u001b[0m     \u001b[39mprint\u001b[39m(i)\n",
      "Cell \u001b[0;32mIn [27], line 11\u001b[0m, in \u001b[0;36mtraverse\u001b[0;34m(a)\u001b[0m\n\u001b[1;32m      9\u001b[0m \u001b[39melse\u001b[39;00m:\n\u001b[1;32m     10\u001b[0m     \u001b[39mfor\u001b[39;00m e \u001b[39min\u001b[39;00m a\u001b[39m.\u001b[39mitems():\n\u001b[0;32m---> 11\u001b[0m         \u001b[39myield from\u001b[39;00m traverse(e)\n",
      "Cell \u001b[0;32mIn [27], line 8\u001b[0m, in \u001b[0;36mtraverse\u001b[0;34m(a)\u001b[0m\n\u001b[1;32m      6\u001b[0m \u001b[39mdef\u001b[39;00m \u001b[39mtraverse\u001b[39m(a):\n\u001b[1;32m      7\u001b[0m     \u001b[39mif\u001b[39;00m \u001b[39mnot\u001b[39;00m \u001b[39misinstance\u001b[39m(a, \u001b[39mdict\u001b[39m):\n\u001b[0;32m----> 8\u001b[0m         \u001b[39myield\u001b[39;00m {a\u001b[39m.\u001b[39;49m_uid: a\u001b[39m.\u001b[39msize}\n\u001b[1;32m      9\u001b[0m     \u001b[39melse\u001b[39;00m:\n\u001b[1;32m     10\u001b[0m         \u001b[39mfor\u001b[39;00m e \u001b[39min\u001b[39;00m a\u001b[39m.\u001b[39mitems():\n",
      "\u001b[0;31mAttributeError\u001b[0m: 'tuple' object has no attribute '_uid'"
     ]
    }
   ],
   "source": [
    "working_folder = file_system.contents\n",
    "# big_files = []\n",
    "# for key, value in file_system.contents.items():\n",
    "#     working_folder = value\n",
    "\n",
    "def traverse(a):\n",
    "    if not isinstance(a, dict):\n",
    "        yield {a._uid: a.size}\n",
    "    else:\n",
    "        for e in a.items():\n",
    "            yield from traverse(e)\n",
    "\n",
    "traverse(file_system.contents)\n",
    "for i in traverse(file_system.contents):\n",
    "    print(i)"
   ]
  },
  {
   "cell_type": "markdown",
   "metadata": {},
   "source": []
  }
 ],
 "metadata": {
  "kernelspec": {
   "display_name": "Python 3.10.8 ('aoc')",
   "language": "python",
   "name": "python3"
  },
  "language_info": {
   "codemirror_mode": {
    "name": "ipython",
    "version": 3
   },
   "file_extension": ".py",
   "mimetype": "text/x-python",
   "name": "python",
   "nbconvert_exporter": "python",
   "pygments_lexer": "ipython3",
   "version": "3.10.8"
  },
  "orig_nbformat": 4,
  "vscode": {
   "interpreter": {
    "hash": "52ad416f76a6efa5a69d7566ebc8421c5a342435fb751d62e29cc6b08ddad190"
   }
  }
 },
 "nbformat": 4,
 "nbformat_minor": 2
}
