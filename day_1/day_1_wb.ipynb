{
 "cells": [
  {
   "cell_type": "code",
   "execution_count": 1,
   "metadata": {},
   "outputs": [],
   "source": [
    "# read in the calorie inventory data\n",
    "input_path = \"input.txt\"\n",
    "with open(input_path) as f:\n",
    "    inventory_entries = f.readlines()\n",
    "\n",
    "# create a dict and index to keep track of how many caloires each elfs has\n",
    "elf_index = 0\n",
    "calorie_inventory = {}\n",
    "\n",
    "# for each item add it to the elves total calorie count\n",
    "for entry in inventory_entries:\n",
    "    calories = entry.strip()\n",
    "    if calories:\n",
    "        calorie_inventory[elf_index] = calorie_inventory.get(elf_index, 0) + int(calories)\n",
    "    else:\n",
    "        elf_index += 1"
   ]
  },
  {
   "cell_type": "code",
   "execution_count": 2,
   "metadata": {},
   "outputs": [
    {
     "name": "stdout",
     "output_type": "stream",
     "text": [
      "The elf with the most has 72240 calories\n",
      "The top three elves have a total of 210957 between them.\n"
     ]
    }
   ],
   "source": [
    "# just need to know the most calories an elve has\n",
    "# create a sorted list of the calorie values\n",
    "calories_list = list(calorie_inventory.values())\n",
    "calories_list.sort(reverse=True)\n",
    "\n",
    "# grab the top 1 and top three to answer the question\n",
    "most_calories = str(calories_list[0])\n",
    "top_three_calories = str(sum(calories_list[0:3]))\n",
    "\n",
    "print('The elf with the most has ' + most_calories + ' calories')\n",
    "print('The top three elves have a total of ' + top_three_calories + ' between them.')"
   ]
  }
 ],
 "metadata": {
  "kernelspec": {
   "display_name": "Python 3.10.8 ('aoc')",
   "language": "python",
   "name": "python3"
  },
  "language_info": {
   "codemirror_mode": {
    "name": "ipython",
    "version": 3
   },
   "file_extension": ".py",
   "mimetype": "text/x-python",
   "name": "python",
   "nbconvert_exporter": "python",
   "pygments_lexer": "ipython3",
   "version": "3.10.8"
  },
  "orig_nbformat": 4,
  "vscode": {
   "interpreter": {
    "hash": "52ad416f76a6efa5a69d7566ebc8421c5a342435fb751d62e29cc6b08ddad190"
   }
  }
 },
 "nbformat": 4,
 "nbformat_minor": 2
}
