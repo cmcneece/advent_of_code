{
 "cells": [
  {
   "cell_type": "code",
   "execution_count": 52,
   "metadata": {},
   "outputs": [],
   "source": [
    "import numpy as np\n",
    "import pandas as pd\n",
    "from day_10 import execute_instructions"
   ]
  },
  {
   "cell_type": "code",
   "execution_count": 53,
   "metadata": {},
   "outputs": [],
   "source": [
    "INPUT_PATH = 'input.txt'\n",
    "INTERESTING_CYCLES = [20, 60, 100, 140, 180, 220]\n",
    "\n",
    "with open(INPUT_PATH, 'r') as f:\n",
    "    instructions = [line.strip().split() for line in f.readlines()]\n",
    "register_values = execute_instructions(instructions)\n",
    "\n",
    "def pretty_print(input_array: np.ndarray) -> None:\n",
    "    A = pd.DataFrame(input_array)\n",
    "    A.columns = ['']*A.shape[1]\n",
    "    print(A.to_string(index=False))"
   ]
  },
  {
   "cell_type": "code",
   "execution_count": 54,
   "metadata": {},
   "outputs": [],
   "source": [
    "screen = np.ndarray(shape=(6, 40), dtype=object)\n",
    "num_el = screen.shape[0]*screen.shape[1]\n",
    "for i in range(num_el):\n",
    "    cycle = i+1\n",
    "    sprite_position = register_values[cycle].register\n",
    "    x, y = np.unravel_index(i, shape=screen.shape)\n",
    "    sprite_pixels = [sprite_position-1, sprite_position, sprite_position+1]\n",
    "    if i - x*screen.shape[1] in sprite_pixels:\n",
    "        screen[x, y] = '#'\n",
    "        # print('yes', cycle, sprite_pixels)\n",
    "    else:\n",
    "        screen[x, y] = '.'\n",
    "        # print('no', cycle, sprite_pixels)"
   ]
  },
  {
   "cell_type": "code",
   "execution_count": 55,
   "metadata": {},
   "outputs": [
    {
     "name": "stdout",
     "output_type": "stream",
     "text": [
      "                                                                               \n",
      "# # # # . # # # . . # . . # . # # # . . # . . # . # # # # . . # # . . # . . # .\n",
      "# . . . . # . . # . # . . # . # . . # . # . . # . . . . # . # . . # . # . . # .\n",
      "# # # . . # # # . . # . . # . # . . # . # # # # . . . # . . # . . . . # # # # .\n",
      "# . . . . # . . # . # . . # . # # # . . # . . # . . # . . . # . . . . # . . # .\n",
      "# . . . . # . . # . # . . # . # . # . . # . . # . # . . . . # . . # . # . . # .\n",
      "# . . . . # # # . . . # # . . # . . # . # . . # . # # # # . . # # . . # . . # .\n"
     ]
    }
   ],
   "source": [
    "pretty_print(screen)"
   ]
  },
  {
   "cell_type": "code",
   "execution_count": 59,
   "metadata": {},
   "outputs": [
    {
     "ename": "ValueError",
     "evalue": "index 240 is out of bounds for array with size 240",
     "output_type": "error",
     "traceback": [
      "\u001b[0;31m---------------------------------------------------------------------------\u001b[0m",
      "\u001b[0;31mValueError\u001b[0m                                Traceback (most recent call last)",
      "Cell \u001b[0;32mIn [59], line 10\u001b[0m\n\u001b[1;32m      8\u001b[0m answer_screen \u001b[39m=\u001b[39m np\u001b[39m.\u001b[39mndarray(shape\u001b[39m=\u001b[39m(\u001b[39m6\u001b[39m, \u001b[39m40\u001b[39m), dtype\u001b[39m=\u001b[39m\u001b[39mobject\u001b[39m)\n\u001b[1;32m      9\u001b[0m \u001b[39mfor\u001b[39;00m i, val \u001b[39min\u001b[39;00m \u001b[39menumerate\u001b[39m(answer_text):\n\u001b[0;32m---> 10\u001b[0m     x, y \u001b[39m=\u001b[39m np\u001b[39m.\u001b[39;49munravel_index(i, shape\u001b[39m=\u001b[39;49manswer_screen\u001b[39m.\u001b[39;49mshape)\n\u001b[1;32m     11\u001b[0m     answer_screen[x, y] \u001b[39m=\u001b[39m val\n\u001b[1;32m     13\u001b[0m pretty_print(answer_screen)\n",
      "File \u001b[0;32m<__array_function__ internals>:180\u001b[0m, in \u001b[0;36munravel_index\u001b[0;34m(*args, **kwargs)\u001b[0m\n",
      "\u001b[0;31mValueError\u001b[0m: index 240 is out of bounds for array with size 240"
     ]
    }
   ],
   "source": [
    "answer_text = \"##..##..##..##..##..##..##..##..##..##..\\\n",
    "###...###...###...###...###...###...###.\\\n",
    "####....####....####....####....####....\\\n",
    "#####.....#####.....#####.....#####.....\\\n",
    "######......######......######......####\\\n",
    "#######.......#######.......#######.....\"\n",
    "\n",
    "answer_screen = np.ndarray(shape=(6, 40), dtype=object)\n",
    "for i, val in enumerate(answer_text):\n",
    "    x, y = np.unravel_index(i, shape=answer_screen.shape)\n",
    "    answer_screen[x, y] = val\n",
    "\n",
    "pretty_print(answer_screen)"
   ]
  },
  {
   "cell_type": "code",
   "execution_count": 57,
   "metadata": {},
   "outputs": [
    {
     "data": {
      "text/plain": [
       "array([[ True,  True, False, False, False,  True, False, False, False,\n",
       "        False, False,  True, False,  True,  True, False,  True,  True,\n",
       "         True,  True,  True, False,  True, False, False,  True, False,\n",
       "        False,  True, False,  True, False,  True, False,  True, False,\n",
       "        False, False, False,  True],\n",
       "       [ True, False, False,  True,  True, False, False, False,  True,\n",
       "         True, False,  True, False,  True, False, False,  True,  True,\n",
       "         True, False,  True,  True,  True, False, False, False, False,\n",
       "         True, False,  True,  True, False, False, False,  True, False,\n",
       "        False, False,  True,  True],\n",
       "       [ True,  True,  True, False,  True, False, False, False, False,\n",
       "        False,  True, False,  True, False,  True, False, False, False,\n",
       "         True, False, False, False, False, False, False, False, False,\n",
       "         True,  True,  True, False,  True, False, False, False,  True,\n",
       "        False, False, False,  True],\n",
       "       [ True, False, False, False, False, False,  True,  True, False,\n",
       "         True,  True, False, False,  True, False, False, False, False,\n",
       "         True,  True,  True, False, False,  True, False,  True, False,\n",
       "         True,  True,  True,  True, False, False, False, False, False,\n",
       "         True,  True, False,  True],\n",
       "       [ True, False, False, False, False,  True,  True,  True, False,\n",
       "         True, False,  True, False,  True, False,  True, False,  True,\n",
       "         True,  True, False,  True,  True, False, False,  True, False,\n",
       "        False, False, False, False,  True,  True, False,  True, False,\n",
       "        False, False,  True, False],\n",
       "       [ True, False, False, False, False,  True,  True, False,  True,\n",
       "         True,  True, False, False,  True, False,  True, False, False,\n",
       "         True, False,  True,  True,  True, False,  True, False, False,\n",
       "        False,  True, False, False,  True,  True, False, False, False,\n",
       "         True,  True, False,  True]])"
      ]
     },
     "execution_count": 57,
     "metadata": {},
     "output_type": "execute_result"
    }
   ],
   "source": [
    "screen == answer_screen"
   ]
  }
 ],
 "metadata": {
  "kernelspec": {
   "display_name": "aoc",
   "language": "python",
   "name": "python3"
  },
  "language_info": {
   "codemirror_mode": {
    "name": "ipython",
    "version": 3
   },
   "file_extension": ".py",
   "mimetype": "text/x-python",
   "name": "python",
   "nbconvert_exporter": "python",
   "pygments_lexer": "ipython3",
   "version": "3.10.8"
  },
  "orig_nbformat": 4,
  "vscode": {
   "interpreter": {
    "hash": "52ad416f76a6efa5a69d7566ebc8421c5a342435fb751d62e29cc6b08ddad190"
   }
  }
 },
 "nbformat": 4,
 "nbformat_minor": 2
}
