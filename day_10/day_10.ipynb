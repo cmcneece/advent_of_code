{
 "cells": [
  {
   "cell_type": "code",
   "execution_count": 56,
   "metadata": {},
   "outputs": [],
   "source": [
    "INPUT_PATH = 'input.txt'\n",
    "\n",
    "with open(INPUT_PATH, 'r') as f:\n",
    "    instructions = [line.strip().split() for line in f.readlines()]"
   ]
  },
  {
   "cell_type": "code",
   "execution_count": null,
   "metadata": {},
   "outputs": [],
   "source": [
    "INTERESTING_CYCLES = [20, 60, 100, 140, 180, 220]"
   ]
  },
  {
   "cell_type": "code",
   "execution_count": 57,
   "metadata": {},
   "outputs": [],
   "source": [
    "def part_1(instructions):\n",
    "    cycle = 1\n",
    "    register = 1\n",
    "    register_values = {cycle: (register, cycle*register)}\n",
    "\n",
    "    for instruction in instructions:\n",
    "        command = instruction[0]\n",
    "\n",
    "        if command == 'noop':\n",
    "            cycle += 1\n",
    "            register_values[cycle] = (register, cycle*register)\n",
    "        elif command == 'addx':\n",
    "            cycle += 1\n",
    "            register_values[cycle] = (register, cycle*register)\n",
    "\n",
    "            cycle += 1\n",
    "            register += int(instruction[1])\n",
    "            register_values[cycle] = (register, cycle*register)\n",
    "    \n",
    "    signal_strength_sum = 0\n",
    "    for cycle in INTERESTING_CYCLES:\n",
    "        signal_strength = register_values[cycle][1]\n",
    "        signal_strength_sum += signal_strength\n",
    "    \n",
    "    return signal_strength_sum"
   ]
  },
  {
   "cell_type": "code",
   "execution_count": 58,
   "metadata": {},
   "outputs": [],
   "source": [
    "part_1_signal_sum = 13140"
   ]
  },
  {
   "cell_type": "code",
   "execution_count": 60,
   "metadata": {},
   "outputs": [
    {
     "name": "stdout",
     "output_type": "stream",
     "text": [
      "The sum of signal strengths for cycles [20, 60, 100, 140, 180, 220] is 13720\n"
     ]
    }
   ],
   "source": [
    "# part 1\n",
    "signal_strength_sum = 0\n",
    "for cycle in interesting_cycles:\n",
    "    signal_strength = register_values[cycle][1]\n",
    "    signal_strength_sum += signal_strength\n",
    "\n",
    "MSG = 'The sum of signal strengths for cycles {interesting_cycle} is {signal_sum}'\n",
    "print(MSG.format(interesting_cycle=interesting_cycles, signal_sum=signal_strength_sum))"
   ]
  }
 ],
 "metadata": {
  "kernelspec": {
   "display_name": "aoc",
   "language": "python",
   "name": "python3"
  },
  "language_info": {
   "codemirror_mode": {
    "name": "ipython",
    "version": 3
   },
   "file_extension": ".py",
   "mimetype": "text/x-python",
   "name": "python",
   "nbconvert_exporter": "python",
   "pygments_lexer": "ipython3",
   "version": "3.10.8"
  },
  "orig_nbformat": 4,
  "vscode": {
   "interpreter": {
    "hash": "52ad416f76a6efa5a69d7566ebc8421c5a342435fb751d62e29cc6b08ddad190"
   }
  }
 },
 "nbformat": 4,
 "nbformat_minor": 2
}
