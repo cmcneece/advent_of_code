{
 "cells": [
  {
   "cell_type": "code",
   "execution_count": 1,
   "metadata": {},
   "outputs": [],
   "source": [
    "from dataclasses import dataclass\n",
    "from operator import add, sub, mul, truediv\n",
    "from math import floor, prod\n",
    "import copy"
   ]
  },
  {
   "cell_type": "code",
   "execution_count": 2,
   "metadata": {},
   "outputs": [],
   "source": [
    "MONKEY_DIVISOR_CONSTANT = 1 "
   ]
  },
  {
   "cell_type": "code",
   "execution_count": 3,
   "metadata": {},
   "outputs": [],
   "source": [
    "@dataclass\n",
    "class Monkey:\n",
    "    \"\"\" Monkey item.\"\"\"\n",
    "    id: int\n",
    "    items: list[int]\n",
    "    operation: tuple[callable, int]\n",
    "    test_factor: int\n",
    "    true_monkey: int\n",
    "    false_monkey: int\n",
    "    items_inspected: int = 0\n",
    "\n",
    "    def test_function(self, item):\n",
    "        return (item % self.test_factor) == 0\n",
    "    \n",
    "    \n",
    "    def inspect(self, monkeys, part):\n",
    "        global MONKEY_DIVISOR_CONSTANT\n",
    "        for item in self.items:\n",
    "            old = item\n",
    "            new = eval(self.operation)\n",
    "            if part == 1:\n",
    "                new = floor(new / 3)\n",
    "            elif part == 2:\n",
    "                new %= MONKEY_DIVISOR_CONSTANT\n",
    "                # print(MONKEY_DIVISOR_CONSTANT)\n",
    "\n",
    "            destination_monkey = self.true_monkey if self.test_function(new) else self.false_monkey\n",
    "            monkeys[destination_monkey].items.append(new)\n",
    "            self.items_inspected += 1\n",
    "        \n",
    "        self.items = []\n",
    "        \n",
    "        return monkeys"
   ]
  },
  {
   "cell_type": "code",
   "execution_count": 4,
   "metadata": {},
   "outputs": [],
   "source": [
    "INPUT_PATH = 'input.txt'\n",
    "with open(INPUT_PATH, 'r') as f:\n",
    "    data = f.readlines()"
   ]
  },
  {
   "cell_type": "code",
   "execution_count": 5,
   "metadata": {},
   "outputs": [],
   "source": [
    "state_input_start = range(0, len(data), 7)\n",
    "state_input_stop = range(6, len(data)+1, 7)\n",
    "\n",
    "states = []\n",
    "for start, stop in zip(state_input_start, state_input_stop):\n",
    "    states.append(data[start:stop])"
   ]
  },
  {
   "cell_type": "code",
   "execution_count": 6,
   "metadata": {},
   "outputs": [],
   "source": [
    "monkeys = {}\n",
    "for i, state in enumerate(states):\n",
    "    for j, _ in enumerate(state):\n",
    "        # remove all spaces and \\n\n",
    "        line = states[i][j].strip()\n",
    "\n",
    "        if j == 0:\n",
    "            # monkey id\n",
    "            line = line.strip(\":\")\n",
    "            id = int(line.split()[1])\n",
    "        elif j == 1:\n",
    "            # current items\n",
    "            items_text = line.split(\":\")[1].split(\",\")\n",
    "            items = []\n",
    "            for entry in items_text:\n",
    "                items.append(int(entry.strip()))\n",
    "        elif j == 2:\n",
    "            # operation \n",
    "            operation = line.split(\":\")[1].strip(\",\").replace(\" \", \"\").replace(\"new=\", \"\")\n",
    "        elif j == 3:\n",
    "            test_factor = int(line.replace(\"Test: divisible by\", \"\"))\n",
    "            MONKEY_DIVISOR_CONSTANT *= test_factor\n",
    "        elif j == 4:\n",
    "            true_monkey = int(line.replace(\"If true: throw to monkey \", \"\"))\n",
    "        elif j == 5:\n",
    "            false_monkey = int(line.replace(\"If false: throw to monkey \", \"\"))\n",
    "\n",
    "    monkey = Monkey(id=id, items=items, operation=operation, test_factor=test_factor,\n",
    "                    true_monkey=true_monkey, false_monkey=false_monkey)\n",
    "    monkeys[id] = monkey\n",
    "m1 = copy.deepcopy(monkeys)\n",
    "m2 = copy.deepcopy(monkeys)"
   ]
  },
  {
   "cell_type": "code",
   "execution_count": 7,
   "metadata": {},
   "outputs": [
    {
     "data": {
      "text/plain": [
       "False"
      ]
     },
     "execution_count": 7,
     "metadata": {},
     "output_type": "execute_result"
    }
   ],
   "source": [
    "for _ in range(20):\n",
    "    for id in range(len(m1)):\n",
    "        m1 = m1[id].inspect(m1, part=1)\n",
    "\n",
    "items_inspected = []\n",
    "for _, monkey in m1.items():\n",
    "    items_inspected.append(monkey.items_inspected)\n",
    "\n",
    "items_inspected.sort()\n",
    "\n",
    "monkey_business = prod(items_inspected[-2:])\n",
    "print('Part 1 solution: ', monkey_business)"
   ]
  },
  {
   "cell_type": "code",
   "execution_count": 8,
   "metadata": {},
   "outputs": [
    {
     "data": {
      "text/plain": [
       "14081365540"
      ]
     },
     "execution_count": 8,
     "metadata": {},
     "output_type": "execute_result"
    }
   ],
   "source": [
    "for _ in range(10000):\n",
    "    for id in range(len(m2)):\n",
    "        m2 = m2[id].inspect(m2, part=2)\n",
    "\n",
    "items_inspected = []\n",
    "for _, monkey in m2.items():\n",
    "    items_inspected.append(monkey.items_inspected)\n",
    "\n",
    "items_inspected.sort()\n",
    "\n",
    "monkey_business = prod(items_inspected[-2:])\n",
    "print('Part 2 solution: ', monkey_business)"
   ]
  }
 ],
 "metadata": {
  "kernelspec": {
   "display_name": "aoc",
   "language": "python",
   "name": "python3"
  },
  "language_info": {
   "codemirror_mode": {
    "name": "ipython",
    "version": 3
   },
   "file_extension": ".py",
   "mimetype": "text/x-python",
   "name": "python",
   "nbconvert_exporter": "python",
   "pygments_lexer": "ipython3",
   "version": "3.10.8"
  },
  "orig_nbformat": 4,
  "vscode": {
   "interpreter": {
    "hash": "52ad416f76a6efa5a69d7566ebc8421c5a342435fb751d62e29cc6b08ddad190"
   }
  }
 },
 "nbformat": 4,
 "nbformat_minor": 2
}
