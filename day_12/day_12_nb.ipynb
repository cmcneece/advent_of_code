{
 "cells": [
  {
   "cell_type": "code",
   "execution_count": 1,
   "metadata": {},
   "outputs": [],
   "source": [
    "from day_12 import Map\n",
    "import numpy as np"
   ]
  },
  {
   "cell_type": "code",
   "execution_count": 2,
   "metadata": {},
   "outputs": [
    {
     "name": "stdout",
     "output_type": "stream",
     "text": [
      "The shortest path takes 520 steps\n"
     ]
    }
   ],
   "source": [
    "input_path = \"input.txt\"\n",
    "\n",
    "# part 1\n",
    "my_map = Map()\n",
    "my_map.build_map_from_input(input_path)\n",
    "shortest_path = my_map.graph.shortest_path(my_map.start, my_map.stop)\n",
    "shortest_path_length = len(shortest_path)-1\n",
    "print(f'The shortest path takes {shortest_path_length} steps')\n",
    "# my_map.print_path(shortest_path)"
   ]
  },
  {
   "cell_type": "code",
   "execution_count": 3,
   "metadata": {},
   "outputs": [],
   "source": [
    "a_locations = np.where(my_map.elevation_map == 0)\n",
    "a_indicies = []\n",
    "for i in range(len(a_locations[0])):\n",
    "    index = (a_locations[0][i], a_locations[1][i])\n",
    "    a_indicies.append(index)"
   ]
  },
  {
   "cell_type": "code",
   "execution_count": 13,
   "metadata": {},
   "outputs": [],
   "source": [
    "paths = {}\n",
    "for index in a_indicies:\n",
    "    node_id = my_map.get_node(index)\n",
    "    path = my_map.graph.shortest_path(node_id, my_map.stop)\n",
    "    if path == None:\n",
    "        continue\n",
    "    paths[node_id] = (path, len(path)-1)"
   ]
  },
  {
   "cell_type": "code",
   "execution_count": 16,
   "metadata": {},
   "outputs": [
    {
     "name": "stdout",
     "output_type": "stream",
     "text": [
      "508\n"
     ]
    }
   ],
   "source": [
    "shortest_dist = float('infinity')\n",
    "for key, val in paths.items():\n",
    "     if val[1] < shortest_dist:\n",
    "        shortest_dist = val[1]\n",
    "        shortest_path = key\n",
    "\n",
    "shortest = paths[shortest_path][1]\n",
    "print(shortest)"
   ]
  },
  {
   "cell_type": "code",
   "execution_count": 5,
   "metadata": {},
   "outputs": [
    {
     "ename": "NameError",
     "evalue": "name 'nx_shortest' is not defined",
     "output_type": "error",
     "traceback": [
      "\u001b[0;31m---------------------------------------------------------------------------\u001b[0m",
      "\u001b[0;31mNameError\u001b[0m                                 Traceback (most recent call last)",
      "Cell \u001b[0;32mIn [5], line 1\u001b[0m\n\u001b[0;32m----> 1\u001b[0m \u001b[39mprint\u001b[39m(\u001b[39mlen\u001b[39m(nx_shortest))\n\u001b[1;32m      2\u001b[0m \u001b[39mprint\u001b[39m(\u001b[39mlen\u001b[39m(shortest_path))\n",
      "\u001b[0;31mNameError\u001b[0m: name 'nx_shortest' is not defined"
     ]
    }
   ],
   "source": [
    "print(len(nx_shortest))\n",
    "print(len(shortest_path))"
   ]
  }
 ],
 "metadata": {
  "kernelspec": {
   "display_name": "aoc",
   "language": "python",
   "name": "python3"
  },
  "language_info": {
   "codemirror_mode": {
    "name": "ipython",
    "version": 3
   },
   "file_extension": ".py",
   "mimetype": "text/x-python",
   "name": "python",
   "nbconvert_exporter": "python",
   "pygments_lexer": "ipython3",
   "version": "3.10.8"
  },
  "orig_nbformat": 4,
  "vscode": {
   "interpreter": {
    "hash": "52ad416f76a6efa5a69d7566ebc8421c5a342435fb751d62e29cc6b08ddad190"
   }
  }
 },
 "nbformat": 4,
 "nbformat_minor": 2
}
