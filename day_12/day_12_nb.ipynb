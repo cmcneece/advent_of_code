{
 "cells": [
  {
   "cell_type": "code",
   "execution_count": 1,
   "metadata": {},
   "outputs": [],
   "source": [
    "import numpy as np\n",
    "from string import ascii_lowercase\n",
    "from copy import deepcopy\n",
    "from math import prod\n",
    "from dataclasses import dataclass, field\n",
    "import pandas as pd\n",
    "from functools import cached_property\n",
    "import heapq\n",
    "import matplotlib.pyplot as plt\n",
    "\n",
    "\n",
    "ELEVATION_MAPPING = {letter: elevation for letter, elevation\n",
    "                     in zip(ascii_lowercase, range(len(ascii_lowercase)))}\n",
    "ELEVATION_MAPPING[\"S\"] = 0\n",
    "ELEVATION_MAPPING[\"E\"] = 25\n",
    "\n",
    "VECTOR_MAPPING = {\"1,0\": \"V\",\n",
    "                  \"-1,0\": \"^\",\n",
    "                  \"0,-1\": \"<\",\n",
    "                  \"0,1\": \">\"}\n",
    "\n",
    "\n",
    "def pretty_print(input_array: np.ndarray) -> None:\n",
    "    ''' Prints a matrix in a pretty way'''\n",
    "    A = pd.DataFrame(input_array)\n",
    "    A.columns = ['']*A.shape[1]\n",
    "    print(A.to_string(index=False))\n",
    "\n",
    "\n",
    "@dataclass\n",
    "class Graph:\n",
    "    '''A representation of the potential paths as a graph'''\n",
    "    graph: dict = field(default_factory=dict[int, set[int]])\n",
    "    graph_type: str = 'directed'\n",
    "\n",
    "    def add_edge(self, source: int, destination: int):\n",
    "        ''' Adds an edge to the graph structure'''\n",
    "        if source not in self.graph.keys():\n",
    "            self.graph[source] = set()\n",
    "        self.graph[source].add(destination)\n",
    "\n",
    "        # if the graph is not directed then it can go both ways\n",
    "        if self.graph_type != 'directed':\n",
    "            print('test')\n",
    "            if destination not in self.graph:\n",
    "                self.graph[destination] = set()\n",
    "            self.graph[destination].add(source)\n",
    "\n",
    "    def print_graph(self):\n",
    "        '''Prints the graph structure'''\n",
    "        for node, connections in self.graph.items():\n",
    "            print(f\"{node}-->{connections}\")\n",
    "\n",
    "    def shortest_path(self, start: int, stop: int) -> list[int]:\n",
    "        '''Finds the shortest path between two points using Djikstra's algorithm'''\n",
    "        # store the unvisited nodes\n",
    "        unvisited = [(0, start)]\n",
    "\n",
    "        # store the distance from the start node to each node\n",
    "        distance = {start: 0}\n",
    "\n",
    "        # store the previous node in the shortest path\n",
    "        previous = {start: None}\n",
    "\n",
    "        # while there are still unvisited nodes\n",
    "        while unvisited:\n",
    "            # get the node with the smallest distance\n",
    "            current_distance, current_node = heapq.heappop(unvisited)\n",
    "\n",
    "            # if we reached the end, build the path and return\n",
    "            if current_node == stop:\n",
    "                path = []\n",
    "                while current_node is not None:\n",
    "                    path.append(current_node)\n",
    "                    current_node = previous[current_node]\n",
    "                return path[::-1]\n",
    "\n",
    "            # if we have already visited the current node, we skip it\n",
    "            if current_distance > distance.get(current_node, float('inf')):\n",
    "                continue\n",
    "\n",
    "            # if the current node is a dead-end, we skip it\n",
    "            if current_node not in self.graph.keys():\n",
    "                continue\n",
    "\n",
    "            for connection in self.graph[current_node]:\n",
    "                new_distance = current_distance + 1\n",
    "                # if the distance to the neighbor is shorter than the previous one\n",
    "                if new_distance < distance.get(connection, float('inf')):\n",
    "                    # update the distance and the previous node\n",
    "                    distance[connection] = new_distance\n",
    "                    previous[connection] = current_node\n",
    "                    heapq.heappush(unvisited, (new_distance, connection))\n",
    "\n",
    "        # if there is no path between the start and end nodes\n",
    "        return None\n",
    "\n",
    "\n",
    "@dataclass\n",
    "class Map:\n",
    "    '''A class to represent the topography'''\n",
    "    txt_map: np.ndarray[str] = np.ndarray(shape=(0, 0))\n",
    "\n",
    "    @property\n",
    "    def shape(self) -> tuple[int, int]:\n",
    "        '''The shape of the map'''\n",
    "        return self.txt_map.shape\n",
    "\n",
    "    @cached_property\n",
    "    def node_map(self) -> np.ndarray:\n",
    "        '''A map with the node id in each cell'''\n",
    "        node_map = np.zeros(shape=self.shape, dtype=int)\n",
    "        node_names = range(prod(self.shape))\n",
    "        for i, name in enumerate(node_names):\n",
    "            x, y = np.unravel_index(i, shape=self.shape)\n",
    "            node_map[x, y] = name\n",
    "        return node_map\n",
    "\n",
    "    @cached_property\n",
    "    def elevation_map(self) -> np.ndarray:\n",
    "        '''A map with the elevation in each cell'''\n",
    "        elevation_map = np.zeros(shape=self.shape, dtype=int)\n",
    "\n",
    "        for letter, elevation in ELEVATION_MAPPING.items():\n",
    "            elevation_map[self.txt_map == letter] = elevation\n",
    "\n",
    "        return elevation_map\n",
    "\n",
    "    @property\n",
    "    def start_indicies(self) -> tuple[int, int]:\n",
    "        '''The (row, col) of the starting point'''\n",
    "        start_ind = np.where(self.txt_map == 'S')\n",
    "        return (start_ind[0][0], start_ind[1][0])\n",
    "\n",
    "    @property\n",
    "    def stop_indicies(self) -> tuple[int, int]:\n",
    "        '''The (row, col) of the stopping point'''\n",
    "        stop_ind = np.where(self.txt_map == 'E')\n",
    "        return (stop_ind[0][0], stop_ind[1][0])\n",
    "\n",
    "    @property\n",
    "    def stop(self) -> int:\n",
    "        '''The node id of the stopping point'''\n",
    "        return self.node_map[self.stop_indicies]\n",
    "\n",
    "    @property\n",
    "    def start(self) -> int:\n",
    "        '''The node id of the starting point'''\n",
    "        return self.node_map[self.start_indicies]\n",
    "\n",
    "    def build_map_from_input(self, input_path: str):\n",
    "        '''Take the path to the input file and created the txt map'''\n",
    "        with open(input_path, 'r') as f:\n",
    "            data = f.read().split('\\n')\n",
    "\n",
    "        map_list = [[i for i in line] for line in data]\n",
    "        self.txt_map = np.array(map_list, dtype=object)\n",
    "\n",
    "    def reachable(self, current_elevation: int, destination_elevation: int) -> bool:\n",
    "        '''Checks to see if the destination node can be reached from the current node'''\n",
    "        # Can go up only 1, but can go down any distance\n",
    "        return (destination_elevation - current_elevation) <= 1\n",
    "\n",
    "    @cached_property\n",
    "    def graph(self) -> Graph:\n",
    "        '''Creates the graph representation from the map'''\n",
    "        graph = Graph()\n",
    "\n",
    "        for row_ind, row in enumerate(self.elevation_map):\n",
    "            for col_ind, current_elevation in enumerate(row):\n",
    "                adjacent_nodes = []\n",
    "\n",
    "                # evaluate the point north\n",
    "                if row_ind != 0:\n",
    "                    destination_index = (row_ind-1, col_ind)\n",
    "                    adjacent_nodes.append((destination_index,\n",
    "                                           self.elevation_map[destination_index]))\n",
    "                # evaluate the point south\n",
    "                if row_ind != self.shape[0]-1:\n",
    "                    destination_index = (row_ind+1, col_ind)\n",
    "                    adjacent_nodes.append((destination_index,\n",
    "                                           self.elevation_map[destination_index]))\n",
    "                # evaluate the point west\n",
    "                if col_ind != 0:\n",
    "                    destination_index = (row_ind, col_ind-1)\n",
    "                    adjacent_nodes.append((destination_index,\n",
    "                                           self.elevation_map[destination_index]))\n",
    "                # evaluate the point east\n",
    "                if col_ind != self.shape[1]-1:\n",
    "                    destination_index = (row_ind, col_ind+1)\n",
    "                    adjacent_nodes.append((destination_index,\n",
    "                                           self.elevation_map[destination_index]))\n",
    "                # check if the destinations are accessible and add them to graph\n",
    "                for destination_index, destination_elevation in adjacent_nodes:\n",
    "                    if self.reachable(current_elevation, destination_elevation):\n",
    "                        graph.add_edge(self.node_map[row_ind, col_ind],\n",
    "                                       self.node_map[destination_index])\n",
    "        return graph\n",
    "\n",
    "    def print_map(self):\n",
    "        '''Prints the input map in a nice way'''\n",
    "        pretty_print(self.txt_map)\n",
    "\n",
    "    def get_indicies(self, node_id: int) -> tuple[int, int]:\n",
    "        '''Return the index of a node id'''\n",
    "        ind = np.where(self.node_map == node_id)\n",
    "        return (ind[0][0], ind[1][0])\n",
    "\n",
    "    def print_path(self, path: list[int]):\n",
    "        '''Print the map with the provided path shown'''\n",
    "        path_array = deepcopy(self.txt_map)\n",
    "        path_array[:, :] = \".\"\n",
    "        for i, val in enumerate(path[:-1]):\n",
    "            row_ind, col_ind = np.unravel_index(val, shape=self.shape)\n",
    "            next_row_ind, next_col_ind = np.unravel_index(path[i+1],\n",
    "                                                          shape=self.shape)\n",
    "            diff_list = \",\".join([str(next_row_ind-row_ind),\n",
    "                                  str(next_col_ind-col_ind)])\n",
    "            vect_char = VECTOR_MAPPING[diff_list]\n",
    "            path_array[row_ind, col_ind] = vect_char\n",
    "        path_array[self.start_indicies] = \"S\"\n",
    "        path_array[self.stop_indicies] = \"E\"\n",
    "        pretty_print(path_array)"
   ]
  },
  {
   "cell_type": "code",
   "execution_count": 2,
   "metadata": {},
   "outputs": [
    {
     "name": "stdout",
     "output_type": "stream",
     "text": [
      "The shortest path takes 528 steps\n"
     ]
    }
   ],
   "source": [
    "input_path = \"input.txt\"\n",
    "\n",
    "# part 1\n",
    "my_map = Map()\n",
    "my_map.build_map_from_input(input_path)\n",
    "shortest_path = my_map.graph.shortest_path(my_map.start, my_map.stop)\n",
    "shortest_path_length = len(shortest_path)-1\n",
    "print(f'The shortest path takes {shortest_path_length} steps')\n",
    "# my_map.print_path(shortest_path)"
   ]
  },
  {
   "cell_type": "code",
   "execution_count": 3,
   "metadata": {},
   "outputs": [
    {
     "data": {
      "text/plain": [
       "520"
      ]
     },
     "execution_count": 3,
     "metadata": {},
     "output_type": "execute_result"
    }
   ],
   "source": [
    "import networkx as nx\n",
    "\n",
    "G = nx.DiGraph()\n",
    "for node, connections in my_map.graph.graph.items():\n",
    "    for connection in connections:\n",
    "        G.add_edge(node, connection)\n",
    "\n",
    "nx_shortest = nx.shortest_path(G, my_map.start, my_map.stop)\n",
    "len(nx_shortest)-1"
   ]
  },
  {
   "cell_type": "code",
   "execution_count": 7,
   "metadata": {},
   "outputs": [
    {
     "name": "stdout",
     "output_type": "stream",
     "text": [
      "521\n",
      "529\n"
     ]
    }
   ],
   "source": [
    "print(len(nx_shortest))\n",
    "print(len(shortest_path))"
   ]
  },
  {
   "cell_type": "code",
   "execution_count": 6,
   "metadata": {},
   "outputs": [
    {
     "data": {
      "text/plain": [
       "[<matplotlib.lines.Line2D at 0x7f80e5498250>]"
      ]
     },
     "execution_count": 6,
     "metadata": {},
     "output_type": "execute_result"
    },
    {
     "data": {
      "image/png": "[encoded data removed]",
      "text/plain": [
       "<Figure size 640x480 with 1 Axes>"
      ]
     },
     "metadata": {},
     "output_type": "display_data"
    }
   ],
   "source": [
    "pos_diff = [x-y for x,y in zip(shortest_path, nx_shortest)]\n",
    "plt.plot(pos_diff, 'or')\n",
    "# plt.plot(nx_shortest, '*b')"
   ]
  },
  {
   "cell_type": "code",
   "execution_count": 9,
   "metadata": {},
   "outputs": [],
   "source": [
    "import heapq\n",
    "\n",
    "def shortest_path(graph, start, end):\n",
    "    # Create a priority queue to store the unvisited nodes\n",
    "    unvisited = [(0, start)]\n",
    "    # Create a dictionary to store the distance from the start node to each node\n",
    "    distance = {start: 0}\n",
    "    # Create a dictionary to store the previous node in the shortest path\n",
    "    previous = {start: None}\n",
    "    # While there are unvisited nodes\n",
    "    while unvisited:\n",
    "        # Get the node with the smallest distance\n",
    "        current_distance, current_node = heapq.heappop(unvisited)\n",
    "        # If we have reached the end node, we can return the shortest path\n",
    "        if current_node == end:\n",
    "            path = []\n",
    "            while current_node is not None:\n",
    "                path.append(current_node)\n",
    "                current_node = previous[current_node]\n",
    "            return path[::-1]\n",
    "        # If we have already visited the current node, we skip it\n",
    "        if current_distance > distance.get(current_node, float('inf')):\n",
    "            continue\n",
    "        # if the current node is a dead-end, we skip it\n",
    "        if current_node not in graph.keys():\n",
    "            continue\n",
    "        # Otherwise, we visit the current node\n",
    "        for neighbor in graph[current_node]:\n",
    "            new_distance = current_distance + 1\n",
    "            # If the new distance to the neighbor is shorter than the previous one\n",
    "            if new_distance < distance.get(neighbor, float('inf')):\n",
    "                # Update the distance and the previous node\n",
    "                distance[neighbor] = new_distance\n",
    "                previous[neighbor] = current_node\n",
    "                heapq.heappush(unvisited, (new_distance, neighbor))\n",
    "    # If there is no path between the start and end nodes\n",
    "    return None\n"
   ]
  },
  {
   "cell_type": "code",
   "execution_count": 12,
   "metadata": {},
   "outputs": [
    {
     "name": "stdout",
     "output_type": "stream",
     "text": [
      "520\n"
     ]
    }
   ],
   "source": [
    "short_length = shortest_path(my_map.graph.graph, my_map.start, my_map.stop)\n",
    "print(len(short_length)-1)"
   ]
  }
 ],
 "metadata": {
  "kernelspec": {
   "display_name": "aoc",
   "language": "python",
   "name": "python3"
  },
  "language_info": {
   "codemirror_mode": {
    "name": "ipython",
    "version": 3
   },
   "file_extension": ".py",
   "mimetype": "text/x-python",
   "name": "python",
   "nbconvert_exporter": "python",
   "pygments_lexer": "ipython3",
   "version": "3.10.8"
  },
  "orig_nbformat": 4,
  "vscode": {
   "interpreter": {
    "hash": "52ad416f76a6efa5a69d7566ebc8421c5a342435fb751d62e29cc6b08ddad190"
   }
  }
 },
 "nbformat": 4,
 "nbformat_minor": 2
}
