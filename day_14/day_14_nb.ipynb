{
 "cells": [
  {
   "cell_type": "code",
   "execution_count": 56,
   "metadata": {},
   "outputs": [],
   "source": [
    "import pathlib\n",
    "import os\n",
    "from collections import namedtuple\n",
    "import numpy as np\n",
    "\n",
    "# DIR_PATH = pathlib.Path(__file__).parent.resolve()\n",
    "INPUT_FILE = 'test_input.txt'\n",
    "INPUT_PATH = os.path.join(INPUT_FILE)\n",
    "\n",
    "with open(INPUT_PATH, 'r') as f:\n",
    "    data = f.read().split('\\n')"
   ]
  },
  {
   "cell_type": "code",
   "execution_count": 18,
   "metadata": {},
   "outputs": [],
   "source": [
    "Path = namedtuple('Path', ['x', 'y'])\n",
    "paths = []\n",
    "for line in data:\n",
    "    path_parts = line.split(\" -> \")\n",
    "    xs = []\n",
    "    ys = []\n",
    "    for part in path_parts:\n",
    "        x, y = part.split(\",\")\n",
    "        xs.append(int(x))\n",
    "        ys.append(int(y))\n",
    "    paths.append(Path(x=xs, y=ys))"
   ]
  },
  {
   "cell_type": "code",
   "execution_count": 113,
   "metadata": {},
   "outputs": [],
   "source": [
    "paths_x = []\n",
    "paths_y = []\n",
    "for path in paths:\n",
    "    for id, (x, y) in enumerate(zip(path.x[:-1], path.y[:-1])):\n",
    "        x_diff = path.x[id+1] - x\n",
    "        y_diff = path.y[id+1] - y\n",
    "        run_length = max(abs(x_diff), abs(y_diff))\n",
    "        if y_diff:\n",
    "            for i in range(run_length+1):\n",
    "                paths_y.append(y+(i*np.sign(y_diff)))\n",
    "                paths_x.append(x)\n",
    "        else:\n",
    "            for i in range(run_length+1):\n",
    "                paths_x.append(x+(i*np.sign(x_diff)))\n",
    "                paths_y.append(y)"
   ]
  },
  {
   "cell_type": "code",
   "execution_count": 121,
   "metadata": {},
   "outputs": [],
   "source": [
    "x_dim = 10\n",
    "y_dim = 10\n",
    "domain = np.empty(shape=(y_dim, x_dim), dtype=str)\n",
    "domain[:][:] = \".\"\n",
    "for row, col in zip(paths_y, paths_x-min(paths_x)):\n",
    "    domain[row, col] = \"#\""
   ]
  },
  {
   "cell_type": "code",
   "execution_count": 122,
   "metadata": {},
   "outputs": [
    {
     "data": {
      "text/plain": [
       "array([['.', '.', '.', '.', '.', '.', '.', '.', '.', '.'],\n",
       "       ['.', '.', '.', '.', '.', '.', '.', '.', '.', '.'],\n",
       "       ['.', '.', '.', '.', '.', '.', '.', '.', '.', '.'],\n",
       "       ['.', '.', '.', '.', '.', '.', '.', '.', '.', '.'],\n",
       "       ['.', '.', '.', '.', '#', '.', '.', '.', '#', '#'],\n",
       "       ['.', '.', '.', '.', '#', '.', '.', '.', '#', '.'],\n",
       "       ['.', '.', '#', '#', '#', '.', '.', '.', '#', '.'],\n",
       "       ['.', '.', '.', '.', '.', '.', '.', '.', '#', '.'],\n",
       "       ['.', '.', '.', '.', '.', '.', '.', '.', '#', '.'],\n",
       "       ['#', '#', '#', '#', '#', '#', '#', '#', '#', '.']], dtype='<U1')"
      ]
     },
     "execution_count": 122,
     "metadata": {},
     "output_type": "execute_result"
    }
   ],
   "source": [
    "domain"
   ]
  }
 ],
 "metadata": {
  "kernelspec": {
   "display_name": "aoc",
   "language": "python",
   "name": "python3"
  },
  "language_info": {
   "codemirror_mode": {
    "name": "ipython",
    "version": 3
   },
   "file_extension": ".py",
   "mimetype": "text/x-python",
   "name": "python",
   "nbconvert_exporter": "python",
   "pygments_lexer": "ipython3",
   "version": "3.10.8"
  },
  "orig_nbformat": 4,
  "vscode": {
   "interpreter": {
    "hash": "52ad416f76a6efa5a69d7566ebc8421c5a342435fb751d62e29cc6b08ddad190"
   }
  }
 },
 "nbformat": 4,
 "nbformat_minor": 2
}
