{
 "cells": [
  {
   "cell_type": "code",
   "execution_count": 1,
   "metadata": {},
   "outputs": [],
   "source": [
    "import pathlib\n",
    "import os\n",
    "from collections import namedtuple\n",
    "import numpy as np\n",
    "import pandas as pd\n",
    "\n",
    "# DIR_PATH = pathlib.Path(__file__).parent.resolve()\n",
    "INPUT_FILE = 'test_input.txt'\n",
    "INPUT_PATH = os.path.join(INPUT_FILE)\n",
    "\n",
    "with open(INPUT_PATH, 'r') as f:\n",
    "    data = f.read().split('\\n')\n",
    "\n",
    "START_IND = (0, 500)\n"
   ]
  },
  {
   "cell_type": "code",
   "execution_count": null,
   "metadata": {},
   "outputs": [],
   "source": [
    "def pretty_print(input_array: np.ndarray) -> None:\n",
    "    ''' Prints the screen in a pretty way'''\n",
    "    A = pd.DataFrame(input_array)\n",
    "    A.columns = ['']*A.shape[1]\n",
    "    print(A.to_string(index=False))"
   ]
  },
  {
   "cell_type": "code",
   "execution_count": null,
   "metadata": {},
   "outputs": [],
   "source": [
    "def min_value_position(input):\n",
    "    min_val = min(input)\n",
    "    return min_val, input.index(min_val)\n",
    "\n",
    "def max_value_position(input):\n",
    "    max_val = max(input)\n",
    "    return max_val, input.index(max_val)"
   ]
  },
  {
   "cell_type": "code",
   "execution_count": null,
   "metadata": {},
   "outputs": [],
   "source": [
    "def find_grain(domain):\n",
    "    grain_row, grain_col = np.where(domain == \"+\")\n",
    "    grain_row = grain_row[0]\n",
    "    grain_col = grain_col[0]\n",
    "    return (grain_row, grain_col)\n",
    "\n",
    "def check_move(domain, grain_ind):\n",
    "    grain_row = grain_ind[0]\n",
    "    grain_col = grain_ind[1]\n",
    "\n",
    "    below_index = (grain_row+1, grain_col)\n",
    "    down_left_index = (grain_row+1, grain_col-1)\n",
    "    down_right_index = (grain_row+1, grain_col+1)\n",
    "\n",
    "    \n",
    "    try:\n",
    "        if domain[below_index] == \".\":\n",
    "            return below_index\n",
    "        elif domain[down_left_index] == \".\":\n",
    "            return down_left_index\n",
    "        elif domain[down_right_index] == \".\":\n",
    "            return down_right_index\n",
    "        else:   \n",
    "            return \"next\"\n",
    "    except:\n",
    "        return False"
   ]
  },
  {
   "cell_type": "code",
   "execution_count": null,
   "metadata": {},
   "outputs": [],
   "source": [
    "Path = namedtuple('Path', ['x', 'y'])\n",
    "paths = []\n",
    "for line in data:\n",
    "    path_parts = line.split(\" -> \")\n",
    "    xs = []\n",
    "    ys = []\n",
    "    for part in path_parts:\n",
    "        x, y = part.split(\",\")\n",
    "        xs.append(int(x))\n",
    "        ys.append(int(y))\n",
    "    paths.append(Path(x=xs, y=ys))"
   ]
  },
  {
   "cell_type": "code",
   "execution_count": null,
   "metadata": {},
   "outputs": [],
   "source": [
    "paths_x = []\n",
    "paths_y = []\n",
    "for path in paths:\n",
    "    for id, (x, y) in enumerate(zip(path.x[:-1], path.y[:-1])):\n",
    "        x_diff = path.x[id+1] - x\n",
    "        y_diff = path.y[id+1] - y\n",
    "        run_length = max(abs(x_diff), abs(y_diff))\n",
    "        if y_diff:\n",
    "            for i in range(run_length+1):\n",
    "                paths_y.append(y+(i*np.sign(y_diff)))\n",
    "                paths_x.append(x)\n",
    "        else:\n",
    "            for i in range(run_length+1):\n",
    "                paths_x.append(x+(i*np.sign(x_diff)))\n",
    "                paths_y.append(y)"
   ]
  },
  {
   "cell_type": "code",
   "execution_count": null,
   "metadata": {},
   "outputs": [],
   "source": [
    "def make_domain_part_1(paths_x, paths_y):\n",
    "    x_dim = max(paths_x) - min(paths_x)\n",
    "    y_dim = max(paths_y)\n",
    "    domain = np.empty(shape=(y_dim+1, x_dim+1), dtype=str)\n",
    "    domain[:][:] = \".\"\n",
    "    for row, col in zip(paths_y, paths_x-min(paths_x)):\n",
    "        domain[row, col] = \"#\"\n",
    "    start_ind = (START_IND[0], START_IND[1]-min(paths_x))\n",
    "    return domain, start_ind\n",
    "\n",
    "def make_domain_part_2(paths_x, paths_y):\n",
    "    domain, start_ind = make_domain_part_1(paths_x=paths_x, paths_y=paths_y)\n",
    "    height = domain.shape[0] + 2\n",
    "    x_min_val, x_min_index = min_value_position(paths_x)\n",
    "    x_max_val, x_max_index = min_value_position(paths_x)\n",
    "    x_min_val -= min(paths_x)\n",
    "    x_max_val -= min(paths_x)\n",
    "\n",
    "    distance_left = max(height,\n",
    "                        x_min_val + (height - paths_y[x_min_index]))\n",
    "    distance_right = max(height,\n",
    "                        x_max_val + (height - paths_y[x_max_index]))\n",
    "    \n",
    "    add_left = abs(distance_left - start_ind[1]) + 2\n",
    "    add_right = abs(distance_right - (domain.shape[1] - start_ind[1])) + 2\n",
    "    print(add_left)\n",
    "    left_array = np.empty(shape=(domain.shape[0], add_left), dtype=str)\n",
    "    right_array = np.empty(shape=(domain.shape[0], add_right), dtype=str)\n",
    "    new_width = add_left + domain.shape[1] + add_right\n",
    "    bottom_array = np.empty(shape=(2, new_width), dtype=str)\n",
    "\n",
    "    left_array[:, :] = \".\"\n",
    "    right_array[:, :] = \".\"\n",
    "    bottom_array[0,:] = \".\"\n",
    "    bottom_array[1,:] = \"#\"\n",
    "    start_ind = (start_ind[0], start_ind[1] + add_left)\n",
    "    new_domain = np.append(np.append(np.append(left_array, domain, axis=1), right_array, axis=1), bottom_array, axis=0)\n",
    "    return new_domain, start_ind"
   ]
  },
  {
   "cell_type": "code",
   "execution_count": null,
   "metadata": {},
   "outputs": [],
   "source": [
    "def fill_domain(domain, start_ind):\n",
    "    flag = True\n",
    "    sand_ind = 1\n",
    "    domain[start_ind] = \"+\"\n",
    "    grain_ind = start_ind\n",
    "    while flag:\n",
    "        # try:\n",
    "        #     grain_ind = find_grain(domain)\n",
    "        # except:\n",
    "        #     flag = False\n",
    "        #     domain[start_ind] = \"o\"\n",
    "        #     continue\n",
    "        updated_index = check_move(domain, grain_ind)\n",
    "        if domain[grain_ind] == \"o\":\n",
    "            flag = False\n",
    "            continue\n",
    "        if updated_index == \"next\":\n",
    "            domain[start_ind] = \"+\"\n",
    "            domain[grain_ind] = \"o\"\n",
    "            grain_ind = start_ind\n",
    "            sand_ind += 1\n",
    "            continue\n",
    "        elif not updated_index:\n",
    "            flag = False\n",
    "            continue\n",
    "        domain[updated_index] = \"+\"\n",
    "        domain[grain_ind] = \".\"\n",
    "        grain_ind = updated_index\n",
    "    return domain, sand_ind-1\n"
   ]
  },
  {
   "cell_type": "code",
   "execution_count": null,
   "metadata": {},
   "outputs": [],
   "source": [
    "#part_1\n",
    "domain, start_ind = make_domain_part_1(paths_x=paths_x, paths_y=paths_y)\n",
    "domain, sand_ind = fill_domain(domain, start_ind)\n",
    "pretty_print(domain)\n",
    "print(\"The solution to part 1 is \", sand_ind)"
   ]
  },
  {
   "cell_type": "code",
   "execution_count": null,
   "metadata": {},
   "outputs": [],
   "source": [
    "#part_2\n",
    "part_2_domain, start_ind = make_domain_part_2(paths_x=paths_x, paths_y=paths_y)\n",
    "part_2_domain, sand_ind = fill_domain(part_2_domain, start_ind)\n",
    "pretty_print(part_2_domain)\n",
    "print(\"The solution to part 2 is\", sand_ind)"
   ]
  }
 ],
 "metadata": {
  "kernelspec": {
   "display_name": "aoc",
   "language": "python",
   "name": "python3"
  },
  "language_info": {
   "codemirror_mode": {
    "name": "ipython",
    "version": 3
   },
   "file_extension": ".py",
   "mimetype": "text/x-python",
   "name": "python",
   "nbconvert_exporter": "python",
   "pygments_lexer": "ipython3",
   "version": "3.10.8"
  },
  "orig_nbformat": 4,
  "vscode": {
   "interpreter": {
    "hash": "52ad416f76a6efa5a69d7566ebc8421c5a342435fb751d62e29cc6b08ddad190"
   }
  }
 },
 "nbformat": 4,
 "nbformat_minor": 2
}
