{
 "cells": [
  {
   "cell_type": "markdown",
   "metadata": {},
   "source": [
    "--- Day 2: Rock Paper Scissors ---\n",
    "The Elves begin to set up camp on the beach. To decide whose tent gets to be closest to the snack storage, a giant Rock Paper Scissors tournament is already in progress.\n",
    "\n",
    "Rock Paper Scissors is a game between two players. Each game contains many rounds; in each round, the players each simultaneously choose one of Rock, Paper, or Scissors using a hand shape. Then, a winner for that round is selected: Rock defeats Scissors, Scissors defeats Paper, and Paper defeats Rock. If both players choose the same shape, the round instead ends in a draw.\n",
    "\n",
    "Appreciative of your help yesterday, one Elf gives you an encrypted strategy guide (your puzzle input) that they say will be sure to help you win. \"The first column is what your opponent is going to play: A for Rock, B for Paper, and C for Scissors. The second column--\" Suddenly, the Elf is called away to help with someone's tent.\n",
    "\n",
    "The second column, you reason, must be what you should play in response: X for Rock, Y for Paper, and Z for Scissors. Winning every time would be suspicious, so the responses must have been carefully chosen.\n",
    "\n",
    "The winner of the whole tournament is the player with the highest score. Your total score is the sum of your scores for each round. The score for a single round is the score for the shape you selected (1 for Rock, 2 for Paper, and 3 for Scissors) plus the score for the outcome of the round (0 if you lost, 3 if the round was a draw, and 6 if you won).\n",
    "\n",
    "Since you can't be sure if the Elf is trying to help you or trick you, you should calculate the score you would get if you were to follow the strategy guide.\n",
    "\n",
    "For example, suppose you were given the following strategy guide:\n",
    "\n",
    "A Y\n",
    "B X\n",
    "C Z\n",
    "This strategy guide predicts and recommends the following:\n",
    "\n",
    "In the first round, your opponent will choose Rock (A), and you should choose Paper (Y). This ends in a win for you with a score of 8 (2 because you chose Paper + 6 because you won).\n",
    "In the second round, your opponent will choose Paper (B), and you should choose Rock (X). This ends in a loss for you with a score of 1 (1 + 0).\n",
    "The third round is a draw with both players choosing Scissors, giving you a score of 3 + 3 = 6.\n",
    "In this example, if you were to follow the strategy guide, you would get a total score of 15 (8 + 1 + 6).\n",
    "\n",
    "What would your total score be if everything goes exactly according to your strategy guide?"
   ]
  },
  {
   "cell_type": "code",
   "execution_count": 7,
   "metadata": {},
   "outputs": [],
   "source": [
    "from collections import namedtuple"
   ]
  },
  {
   "cell_type": "code",
   "execution_count": 8,
   "metadata": {},
   "outputs": [],
   "source": [
    "part_1_answer = 12156\n",
    "part_2_answer = 10835"
   ]
  },
  {
   "cell_type": "code",
   "execution_count": 9,
   "metadata": {},
   "outputs": [],
   "source": [
    "outcome_contribution = {'W': 6, 'D':3, 'L':0}\n",
    "move_contribution = {'X':1, 'Y':2, 'Z':3}\n",
    "\n",
    "strategy_dict = {'A': {'X':'D', 'Y':'W', 'Z':'L'},\n",
    "                 'B': {'X':'L', 'Y':'D', 'Z':'W'},\n",
    "                 'C': {'X':'W', 'Y':'L', 'Z':'D'}}\n",
    "\n",
    "Round = namedtuple('Round', ['opponent_move', 'my_move', 'outcome', 'score'])\n",
    "\n",
    "def round_builder(opponent_move, my_move):\n",
    "    outcome = strategy_dict[opponent_move][my_move]\n",
    "    score = outcome_contribution[outcome] + move_contribution[my_move]\n",
    "\n",
    "    return Round(opponent_move=opponent_move, my_move=my_move, outcome=outcome, score=score)"
   ]
  },
  {
   "cell_type": "code",
   "execution_count": 10,
   "metadata": {},
   "outputs": [
    {
     "name": "stdout",
     "output_type": "stream",
     "text": [
      "If I follow the elfs strategy I will score 11449 points\n"
     ]
    }
   ],
   "source": [
    "input_path = \"input.txt\"\n",
    "\n",
    "with open(input_path) as f:\n",
    "    rounds = f.readlines()\n",
    "\n",
    "tournament = [round_builder(round[0], round[-2]) for round in rounds]\n",
    "\n",
    "my_score = 0\n",
    "for round in tournament:\n",
    "    my_score += round.score\n",
    "\n",
    "print('If I follow the elfs strategy I will score ' + str(my_score) + ' points')"
   ]
  },
  {
   "cell_type": "markdown",
   "metadata": {},
   "source": [
    "--- Part Two ---\n",
    "The Elf finishes helping with the tent and sneaks back over to you. \"Anyway, the second column says how the round needs to end: X means you need to lose, Y means you need to end the round in a draw, and Z means you need to win. Good luck!\"\n",
    "\n",
    "The total score is still calculated in the same way, but now you need to figure out what shape to choose so the round ends as indicated. The example above now goes like this:\n",
    "\n",
    "In the first round, your opponent will choose Rock (A), and you need the round to end in a draw (Y), so you also choose Rock. This gives you a score of 1 + 3 = 4.\n",
    "In the second round, your opponent will choose Paper (B), and you choose Rock so you lose (X) with a score of 1 + 0 = 1.\n",
    "In the third round, you will defeat your opponent's Scissors with Rock for a score of 1 + 6 = 7.\n",
    "Now that you're correctly decrypting the ultra top secret strategy guide, you would get a total score of 12.\n",
    "\n",
    "Following the Elf's instructions for the second column, what would your total score be if everything goes exactly according to your strategy guide?"
   ]
  },
  {
   "cell_type": "code",
   "execution_count": 11,
   "metadata": {},
   "outputs": [],
   "source": [
    "updated_outcome_contribution = {'W': 6, 'D':3, 'L':0}\n",
    "updated_move_contribution = {'A':1, 'B':2, 'C':3}\n",
    "\n",
    "outcome_mapping = {'X': 'L', 'Y':'D', 'Z':'W'}\n",
    "\n",
    "updated_strategy_dict = {\n",
    "    'A': {'W':'B', 'D':'A', 'L':'C'},\n",
    "    'B': {'W':'C', 'D':'B', 'L':'A'},\n",
    "    'C': {'W':'A', 'D':'C', 'L':'B'}\n",
    "    }\n",
    "\n",
    "def round_fixer(old_round):\n",
    "    opponent_move = old_round.opponent_move\n",
    "    outcome = outcome_mapping[old_round.my_move]\n",
    "    my_move = updated_strategy_dict[opponent_move][outcome]\n",
    "    score = updated_outcome_contribution[outcome] + updated_move_contribution[my_move]\n",
    "\n",
    "    new_round = Round(\n",
    "        opponent_move=opponent_move,\n",
    "        my_move=my_move,\n",
    "        outcome=outcome,\n",
    "        score=score)\n",
    "    \n",
    "    return new_round\n",
    "\n",
    "updated_tournament = [round_fixer(round) for round in tournament]\n",
    "\n",
    "new_score = 0\n",
    "for round in updated_tournament:\n",
    "    new_score += round.score"
   ]
  },
  {
   "cell_type": "code",
   "execution_count": 12,
   "metadata": {},
   "outputs": [
    {
     "name": "stdout",
     "output_type": "stream",
     "text": [
      "The updated strategy gives a score of 13187 points\n"
     ]
    }
   ],
   "source": [
    "print('The updated strategy gives a score of ' + str(new_score) + ' points')"
   ]
  }
 ],
 "metadata": {
  "kernelspec": {
   "display_name": "Python 3.10.8 ('aoc')",
   "language": "python",
   "name": "python3"
  },
  "language_info": {
   "codemirror_mode": {
    "name": "ipython",
    "version": 3
   },
   "file_extension": ".py",
   "mimetype": "text/x-python",
   "name": "python",
   "nbconvert_exporter": "python",
   "pygments_lexer": "ipython3",
   "version": "3.10.8"
  },
  "orig_nbformat": 4,
  "vscode": {
   "interpreter": {
    "hash": "52ad416f76a6efa5a69d7566ebc8421c5a342435fb751d62e29cc6b08ddad190"
   }
  }
 },
 "nbformat": 4,
 "nbformat_minor": 2
}
