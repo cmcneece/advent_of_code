{
 "cells": [
  {
   "cell_type": "code",
   "execution_count": 1,
   "metadata": {},
   "outputs": [],
   "source": [
    "from collections import namedtuple"
   ]
  },
  {
   "cell_type": "code",
   "execution_count": 2,
   "metadata": {},
   "outputs": [],
   "source": [
    "# the contribution of the outcome (W:win, L:lose, D:draw) to the score\n",
    "outcome_contribution = {'W': 6, 'D':3, 'L':0}\n",
    "\n",
    "# the contribution of the move (X:rock, Y:paper, Z:scissors) to the score\n",
    "move_contribution = {'X':1, 'Y':2, 'Z':3}\n",
    "\n",
    "# the elfs recommended strategy mapping\n",
    "outcome_mapping = {'A': {'X':'D', 'Y':'W', 'Z':'L'},\n",
    "                 'B': {'X':'L', 'Y':'D', 'Z':'W'},\n",
    "                 'C': {'X':'W', 'Y':'L', 'Z':'D'}}\n",
    "\n",
    "# object to help store the information of each round played\n",
    "Round = namedtuple('Round', ['opponent_move', 'my_move', 'outcome', 'score'])\n",
    "\n",
    "def round_builder(opponent_move, my_move):\n",
    "    ''' Takes the opponents move and my move, returns round results'''\n",
    "\n",
    "    # determine the outcome of the round based on moves played\n",
    "    outcome = outcome_mapping[opponent_move][my_move]\n",
    "\n",
    "    # calculate the score based on outcome and move\n",
    "    score = outcome_contribution[outcome] + move_contribution[my_move]\n",
    "\n",
    "    return Round(opponent_move=opponent_move, my_move=my_move, outcome=outcome, score=score)"
   ]
  },
  {
   "cell_type": "code",
   "execution_count": 3,
   "metadata": {},
   "outputs": [
    {
     "name": "stdout",
     "output_type": "stream",
     "text": [
      "If I follow the elfs strategy I will score 11449 points\n"
     ]
    }
   ],
   "source": [
    "# read in the elfs suggested strategy\n",
    "input_path = \"input.txt\"\n",
    "with open(input_path) as f:\n",
    "    rounds = f.readlines()\n",
    "\n",
    "# determine the results of the strategy\n",
    "tournament = [round_builder(round[0], round[-2]) for round in rounds]\n",
    "\n",
    "# calculate the total score of the strategy\n",
    "my_score = 0\n",
    "for round in tournament:\n",
    "    my_score += round.score\n",
    "\n",
    "print('If I follow the elfs strategy I will score ' + str(my_score) + ' points')"
   ]
  },
  {
   "cell_type": "code",
   "execution_count": 4,
   "metadata": {},
   "outputs": [],
   "source": [
    "# the contribution of the outcome (win, lose, draw) to the score\n",
    "updated_outcome_contribution = {'W': 6, 'D':3, 'L':0}\n",
    "\n",
    "# the contribution of the moves (A:rock, B:paper, C:scissors) to the score\n",
    "updated_move_contribution = {'A':1, 'B':2, 'C':3}\n",
    "\n",
    "# the mapping to correct for our wrong guess of the elves advice\n",
    "outcome_mapping = {'X': 'L', 'Y':'D', 'Z':'W'}\n",
    "\n",
    "# the mapping of the strategy\n",
    "updated_strategy_dict = {\n",
    "    'A': {'W':'B', 'D':'A', 'L':'C'},\n",
    "    'B': {'W':'C', 'D':'B', 'L':'A'},\n",
    "    'C': {'W':'A', 'D':'C', 'L':'B'}\n",
    "    }\n",
    "\n",
    "def round_fixer(old_round):\n",
    "    ''' take the old round object, returns the corrected round object based on new understanding'''\n",
    "    \n",
    "    # extract relevant info from old round\n",
    "    opponent_move = old_round.opponent_move\n",
    "\n",
    "    # remap given updated interpretation\n",
    "    desired_outcome = outcome_mapping[old_round.my_move]\n",
    "    my_move = updated_strategy_dict[opponent_move][desired_outcome]\n",
    "    score = updated_outcome_contribution[desired_outcome] + updated_move_contribution[my_move]\n",
    "\n",
    "    # create the new Round object\n",
    "    new_round = Round(\n",
    "        opponent_move=opponent_move,\n",
    "        my_move=my_move,\n",
    "        outcome=desired_outcome,\n",
    "        score=score)\n",
    "    \n",
    "    return new_round\n",
    "\n",
    "# process the results of the new strategy\n",
    "updated_tournament = [round_fixer(round) for round in tournament]\n",
    "\n",
    "# calculate score of the suggested strategy\n",
    "new_score = 0\n",
    "for round in updated_tournament:\n",
    "    new_score += round.score"
   ]
  },
  {
   "cell_type": "code",
   "execution_count": 5,
   "metadata": {},
   "outputs": [
    {
     "name": "stdout",
     "output_type": "stream",
     "text": [
      "The updated strategy gives a score of 13187 points\n"
     ]
    }
   ],
   "source": [
    "print('The updated strategy gives a score of ' + str(new_score) + ' points')"
   ]
  }
 ],
 "metadata": {
  "kernelspec": {
   "display_name": "Python 3.10.8 ('aoc')",
   "language": "python",
   "name": "python3"
  },
  "language_info": {
   "codemirror_mode": {
    "name": "ipython",
    "version": 3
   },
   "file_extension": ".py",
   "mimetype": "text/x-python",
   "name": "python",
   "nbconvert_exporter": "python",
   "pygments_lexer": "ipython3",
   "version": "3.10.8"
  },
  "orig_nbformat": 4,
  "vscode": {
   "interpreter": {
    "hash": "52ad416f76a6efa5a69d7566ebc8421c5a342435fb751d62e29cc6b08ddad190"
   }
  }
 },
 "nbformat": 4,
 "nbformat_minor": 2
}
