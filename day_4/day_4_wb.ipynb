{
 "cells": [
  {
   "cell_type": "code",
   "execution_count": 1,
   "metadata": {},
   "outputs": [],
   "source": [
    "# we need to clean up the data and get it into a useful form\n",
    "def pair_input_processor(raw_input):\n",
    "    ''' Takes the raw assignment data, returns cleaned-up assignments '''\n",
    "\n",
    "    processed_pairs = []\n",
    "\n",
    "    # loop through each set of cleaning pairs\n",
    "    for pair in raw_input:\n",
    "\n",
    "        # extract the assignment for each elf\n",
    "        first, second = pair.split(',')\n",
    "\n",
    "        # determine the low and high of the area ids they are to clean\n",
    "        first_low, first_high = first.split('-')\n",
    "        second_low, second_high = second.split('-')\n",
    "\n",
    "        # put that data into a set so its easy to find the intersections\n",
    "        first_assignment = set(range(int(first_low), int(first_high)+1))\n",
    "        second_assignment = set(range(int(second_low), int(second_high)+1))\n",
    "\n",
    "        # put the info into a dictionary so it is easy to index\n",
    "        pair_container = {'first':first_assignment,\n",
    "                          'second':second_assignment}\n",
    "\n",
    "        processed_pairs.append(pair_container)\n",
    "\n",
    "    return processed_pairs"
   ]
  },
  {
   "cell_type": "code",
   "execution_count": 2,
   "metadata": {},
   "outputs": [
    {
     "name": "stdout",
     "output_type": "stream",
     "text": [
      "A total of 576 assignments are totally encompassed.\n"
     ]
    }
   ],
   "source": [
    "# read in the raw assignment data\n",
    "input_path = \"input.txt\"\n",
    "with open(input_path, 'r') as f:\n",
    "    raw_pairs = f.read().splitlines()\n",
    "\n",
    "# process the data\n",
    "cleaned_assignment = pair_input_processor(raw_pairs)\n",
    "\n",
    "# use this to keep track of the running total of fully encompassed pairs\n",
    "num_encompassed_pairs = 0\n",
    "\n",
    "# loop over each cleaning pair\n",
    "for pair in cleaned_assignment:\n",
    "\n",
    "    # determine the intersection of the elf pairs assignments\n",
    "    shared_assignement = pair['first'] & pair['second']\n",
    "\n",
    "    # get the length of the shortest assignment between the elves\n",
    "    shortest_assignment_length  = min(len(pair['first']), len(pair['second']))\n",
    "\n",
    "    # if the length of the shared assignments set is the same as the shortest assignment\n",
    "    # it means the shorter assignment is fully encompassed by the longer\n",
    "    if len(shared_assignement) == shortest_assignment_length:\n",
    "        num_encompassed_pairs += 1\n",
    "\n",
    "msg = \"A total of {num_encompassed_pairs} assignments are totally encompassed.\"\n",
    "print(msg.format(num_encompassed_pairs=num_encompassed_pairs))\n"
   ]
  },
  {
   "cell_type": "code",
   "execution_count": 3,
   "metadata": {},
   "outputs": [
    {
     "name": "stdout",
     "output_type": "stream",
     "text": [
      "A total of 905 assignment pairs overlap.\n"
     ]
    }
   ],
   "source": [
    "# use this to keep track of the running total of overlapping pairs\n",
    "num_overlapping_pairs = 0\n",
    "\n",
    "# loop over each cleaning pair\n",
    "for pair in cleaned_assignment:\n",
    "\n",
    "    # determine the intersection of the elf pairs assignments\n",
    "    shared_assignement = pair['first'] & pair['second']\n",
    "\n",
    "    # if there is anything in the shared assignment set then there is an overlap\n",
    "    if shared_assignement:\n",
    "        num_overlapping_pairs += 1\n",
    "\n",
    "\n",
    "msg = \"A total of {num_overlapping_pairs} assignment pairs overlap.\"\n",
    "print(msg.format(num_overlapping_pairs=num_overlapping_pairs))"
   ]
  }
 ],
 "metadata": {
  "kernelspec": {
   "display_name": "Python 3.10.8 ('aoc')",
   "language": "python",
   "name": "python3"
  },
  "language_info": {
   "codemirror_mode": {
    "name": "ipython",
    "version": 3
   },
   "file_extension": ".py",
   "mimetype": "text/x-python",
   "name": "python",
   "nbconvert_exporter": "python",
   "pygments_lexer": "ipython3",
   "version": "3.10.8"
  },
  "orig_nbformat": 4,
  "vscode": {
   "interpreter": {
    "hash": "52ad416f76a6efa5a69d7566ebc8421c5a342435fb751d62e29cc6b08ddad190"
   }
  }
 },
 "nbformat": 4,
 "nbformat_minor": 2
}
