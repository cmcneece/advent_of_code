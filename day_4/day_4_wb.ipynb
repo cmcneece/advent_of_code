{
 "cells": [
  {
   "cell_type": "markdown",
   "metadata": {},
   "source": [
    "--- Day 4: Camp Cleanup ---\n",
    "\n",
    "Space needs to be cleared before the last supplies can be unloaded from the ships, and so several Elves have been assigned the job of cleaning up sections of the camp. Every section has a unique ID number, and each Elf is assigned a range of section IDs.\n",
    "\n",
    "However, as some of the Elves compare their section assignments with each other, they've noticed that many of the assignments overlap. To try to quickly find overlaps and reduce duplicated effort, the Elves pair up and make a big list of the section assignments for each pair (your puzzle input).\n",
    "\n",
    "For example, consider the following list of section assignment pairs:\n",
    "```\n",
    "2-4,6-8\n",
    "2-3,4-5\n",
    "5-7,7-9\n",
    "2-8,3-7\n",
    "6-6,4-6\n",
    "2-6,4-8\n",
    "```\n",
    "For the first few pairs, this list means:\n",
    "\n",
    "Within the first pair of Elves, the first Elf was assigned sections 2-4 (sections 2, 3, and 4), while the second Elf was assigned sections 6-8 (sections 6, 7, 8).\n",
    "The Elves in the second pair were each assigned two sections.\n",
    "The Elves in the third pair were each assigned three sections: one got sections 5, 6, and 7, while the other also got 7, plus 8 and 9.\n",
    "This example list uses single-digit section IDs to make it easier to draw; your actual list might contain larger numbers. Visually, these pairs of section assignments look like this:\n",
    "\n",
    "```\n",
    ".234.....  2-4\n",
    ".....678.  6-8\n",
    "\n",
    ".23......  2-3\n",
    "...45....  4-5\n",
    "\n",
    "....567..  5-7\n",
    "......789  7-9\n",
    "\n",
    ".2345678.  2-8\n",
    "..34567..  3-7\n",
    "\n",
    ".....6...  6-6\n",
    "...456...  4-6\n",
    "\n",
    ".23456...  2-6\n",
    "...45678.  4-8\n",
    "```\n",
    "Some of the pairs have noticed that one of their assignments fully contains the other. For example, 2-8 fully contains 3-7, and 6-6 is fully contained by 4-6. In pairs where one assignment fully contains the other, one Elf in the pair would be exclusively cleaning sections their partner will already be cleaning, so these seem like the most in need of reconsideration. In this example, there are 2 such pairs.\n",
    "\n",
    "In how many assignment pairs does one range fully contain the other?"
   ]
  },
  {
   "cell_type": "code",
   "execution_count": 43,
   "metadata": {},
   "outputs": [],
   "source": [
    "# we need to clean up the data and get it into a useful form\n",
    "def pair_input_processor(raw_input):\n",
    "    ''' Takes the raw assignment data, returns cleaned-up assignments '''\n",
    "\n",
    "    processed_pairs = []\n",
    "\n",
    "    # loop through each set of cleaning pairs\n",
    "    for pair in raw_input:\n",
    "\n",
    "        # extract the assignment for each elf\n",
    "        first, second = pair.strip('\\n').split(',')\n",
    "\n",
    "        # determine the low and high of the area ids they are to clean\n",
    "        first_low, first_high = first.split('-')\n",
    "        second_low, second_high = second.split('-')\n",
    "\n",
    "        # put that data into a set so its easy to find the intersections\n",
    "        first_assignment = set(range(int(first_low), int(first_high)+1))\n",
    "        second_assignment = set(range(int(second_low), int(second_high)+1))\n",
    "\n",
    "        # put the info into a dictionary so it is easy to index\n",
    "        pair_container = {'first':first_assignment,\n",
    "                          'second':second_assignment}\n",
    "\n",
    "        processed_pairs.append(pair_container)\n",
    "\n",
    "    return processed_pairs"
   ]
  },
  {
   "cell_type": "code",
   "execution_count": 44,
   "metadata": {},
   "outputs": [
    {
     "name": "stdout",
     "output_type": "stream",
     "text": [
      "A total of 576 assignments are totally encompassed.\n"
     ]
    }
   ],
   "source": [
    "# read in the raw assignment data\n",
    "input_path = \"input.txt\"\n",
    "with open(input_path) as f:\n",
    "    raw_pairs = f.readlines()\n",
    "\n",
    "# process the data\n",
    "cleaned_assignment = pair_input_processor(raw_pairs)\n",
    "\n",
    "# use this to keep track of the running total of fully encompassed pairs\n",
    "num_encompassed_pairs = 0\n",
    "\n",
    "# loop over each cleaning pair\n",
    "for pair in cleaned_assignment:\n",
    "\n",
    "    # determine the intersection of the elf pairs assignments\n",
    "    shared_assignement = pair['first'] & pair['second']\n",
    "\n",
    "    # get the length of the shortest assignment between the elves\n",
    "    shortest_assignment_length  = min(len(pair['first']), len(pair['second']))\n",
    "\n",
    "    # if the length of the shared assignments set is the same as the shortest assignment\n",
    "    # it means the shorter assignment is fully encompassed by the longer\n",
    "    if len(shared_assignement) == shortest_assignment_length:\n",
    "        num_encompassed_pairs += 1\n",
    "\n",
    "msg = \"A total of {num_encompassed_pairs} assignments are totally encompassed.\"\n",
    "print(msg.format(num_encompassed_pairs=num_encompassed_pairs))\n"
   ]
  },
  {
   "cell_type": "markdown",
   "metadata": {},
   "source": [
    "--- Part Two ---\n",
    "\n",
    "It seems like there is still quite a bit of duplicate work planned. Instead, the Elves would like to know the number of pairs that overlap at all.\n",
    "\n",
    "In the above example, the first two pairs (2-4,6-8 and 2-3,4-5) don't overlap, while the remaining four pairs (5-7,7-9, 2-8,3-7, 6-6,4-6, and 2-6,4-8) do overlap:\n",
    "\n",
    "- 5-7,7-9 overlaps in a single section, 7.\n",
    "- 2-8,3-7 overlaps all of the sections 3 through 7.\n",
    "- 6-6,4-6 overlaps in a single section, 6.\n",
    "- 2-6,4-8 overlaps in sections 4, 5, and 6.\n",
    "\n",
    "So, in this example, the number of overlapping assignment pairs is 4.\n",
    "\n",
    "In how many assignment pairs do the ranges overlap?"
   ]
  },
  {
   "cell_type": "code",
   "execution_count": 45,
   "metadata": {},
   "outputs": [
    {
     "name": "stdout",
     "output_type": "stream",
     "text": [
      "A total of 905 assignment pairs overlap.\n"
     ]
    }
   ],
   "source": [
    "# use this to keep track of the running total of overlapping pairs\n",
    "num_overlapping_pairs = 0\n",
    "\n",
    "# loop over each cleaning pair\n",
    "for pair in cleaned_assignment:\n",
    "\n",
    "    # determine the intersection of the elf pairs assignments\n",
    "    shared_assignement = pair['first'] & pair['second']\n",
    "\n",
    "    # if there is anything in the shared assignment set then there is an overlap\n",
    "    if shared_assignement:\n",
    "        num_overlapping_pairs += 1\n",
    "\n",
    "\n",
    "msg = \"A total of {num_overlapping_pairs} assignment pairs overlap.\"\n",
    "print(msg.format(num_overlapping_pairs=num_overlapping_pairs))"
   ]
  }
 ],
 "metadata": {
  "kernelspec": {
   "display_name": "Python 3.10.8 ('aoc')",
   "language": "python",
   "name": "python3"
  },
  "language_info": {
   "codemirror_mode": {
    "name": "ipython",
    "version": 3
   },
   "file_extension": ".py",
   "mimetype": "text/x-python",
   "name": "python",
   "nbconvert_exporter": "python",
   "pygments_lexer": "ipython3",
   "version": "3.10.8"
  },
  "orig_nbformat": 4,
  "vscode": {
   "interpreter": {
    "hash": "52ad416f76a6efa5a69d7566ebc8421c5a342435fb751d62e29cc6b08ddad190"
   }
  }
 },
 "nbformat": 4,
 "nbformat_minor": 2
}
