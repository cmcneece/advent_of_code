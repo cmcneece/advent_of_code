{
 "cells": [
  {
   "cell_type": "markdown",
   "metadata": {},
   "source": [
    "--- Day 5: Supply Stacks ---\n",
    "\n",
    "\n",
    "The expedition can depart as soon as the final supplies have been unloaded from the ships. Supplies are stored in stacks of marked crates, but because the needed supplies are buried under many other crates, the crates need to be rearranged.\n",
    "\n",
    "The ship has a giant cargo crane capable of moving crates between stacks. To ensure none of the crates get crushed or fall over, the crane operator will rearrange them in a series of carefully-planned steps. After the crates are rearranged, the desired crates will be at the top of each stack.\n",
    "\n",
    "The Elves don't want to interrupt the crane operator during this delicate procedure, but they forgot to ask her which crate will end up where, and they want to be ready to unload them as soon as possible so they can embark.\n",
    "\n",
    "They do, however, have a drawing of the starting stacks of crates and the rearrangement procedure (your puzzle input). For example:\n",
    "\n",
    "    [D]    \n",
    "[N] [C]    \n",
    "[Z] [M] [P]\n",
    " 1   2   3 \n",
    "\n",
    "move 1 from 2 to 1\n",
    "move 3 from 1 to 3\n",
    "move 2 from 2 to 1\n",
    "move 1 from 1 to 2\n",
    "In this example, there are three stacks of crates. Stack 1 contains two crates: crate Z is on the bottom, and crate N is on top. Stack 2 contains three crates; from bottom to top, they are crates M, C, and D. Finally, stack 3 contains a single crate, P.\n",
    "\n",
    "Then, the rearrangement procedure is given. In each step of the procedure, a quantity of crates is moved from one stack to a different stack. In the first step of the above rearrangement procedure, one crate is moved from stack 2 to stack 1, resulting in this configuration:\n",
    "\n",
    "[D]        \n",
    "[N] [C]    \n",
    "[Z] [M] [P]\n",
    " 1   2   3 \n",
    "In the second step, three crates are moved from stack 1 to stack 3. Crates are moved one at a time, so the first crate to be moved (D) ends up below the second and third crates:\n",
    "\n",
    "        [Z]\n",
    "        [N]\n",
    "    [C] [D]\n",
    "    [M] [P]\n",
    " 1   2   3\n",
    "Then, both crates are moved from stack 2 to stack 1. Again, because crates are moved one at a time, crate C ends up below crate M:\n",
    "\n",
    "        [Z]\n",
    "        [N]\n",
    "[M]     [D]\n",
    "[C]     [P]\n",
    " 1   2   3\n",
    "Finally, one crate is moved from stack 1 to stack 2:\n",
    "\n",
    "        [Z]\n",
    "        [N]\n",
    "        [D]\n",
    "[C] [M] [P]\n",
    " 1   2   3\n",
    "The Elves just need to know which crate will end up on top of each stack; in this example, the top crates are C in stack 1, M in stack 2, and Z in stack 3, so you should combine these together and give the Elves the message CMZ.\n",
    "\n",
    "After the rearrangement procedure completes, what crate ends up on top of each stack?"
   ]
  },
  {
   "cell_type": "code",
   "execution_count": 179,
   "metadata": {},
   "outputs": [],
   "source": [
    "from collections import deque\n",
    "import string"
   ]
  },
  {
   "cell_type": "code",
   "execution_count": 180,
   "metadata": {},
   "outputs": [],
   "source": [
    "def get_stacks(stacks, stack_row):\n",
    "    stack_counter = 1\n",
    "    for i in range(1, len(stack_row), 4):\n",
    "        character = stack_row[i]\n",
    "        if character != ' ':\n",
    "            current_stack = stacks.get(stack_counter, deque())\n",
    "            current_stack.append(character)\n",
    "            stacks[stack_counter] = current_stack\n",
    "\n",
    "        stack_counter += 1\n",
    "\n",
    "    return stacks\n",
    "\n",
    "def get_instructions(data):\n",
    "    instruction_index = 0\n",
    "    instructions = {}\n",
    "    for line in data:\n",
    "        if 'm' not in line:\n",
    "            continue\n",
    "        else:\n",
    "            instruction_pieces = line.split(' ')\n",
    "            instructions[instruction_index] = {'quantity': int(instruction_pieces[1]),\n",
    "                                               'origin': int(instruction_pieces[3]),\n",
    "                                               'destination': int(instruction_pieces[5])}\n",
    "        instruction_index += 1\n",
    "    return instructions\n",
    "\n",
    "def execute_instructions(stacks, instructions):\n",
    "    instruction_order = range(len(instructions))\n",
    "    for index in instruction_order:\n",
    "        instruction = instructions[index]\n",
    "        for _ in range(instruction['quantity']):\n",
    "            crate = stacks[instruction['origin']].pop()\n",
    "            stacks[instruction['destination']].append(crate)\n",
    "    \n",
    "    return stacks"
   ]
  },
  {
   "cell_type": "code",
   "execution_count": 181,
   "metadata": {},
   "outputs": [],
   "source": [
    "def extract_stack_info(data):\n",
    "    stacks = {}\n",
    "    upper_case_set = set(string.ascii_uppercase)\n",
    "    for stack_row in data:\n",
    "        row_set = set(stack_row)\n",
    "        if not stack_row or not (upper_case_set & row_set):\n",
    "            break\n",
    "        else:\n",
    "            stacks = get_stacks(stacks, stack_row)\n",
    "\n",
    "    for key in stacks.keys():\n",
    "        stacks[key].reverse()\n",
    "\n",
    "    return stacks"
   ]
  },
  {
   "cell_type": "code",
   "execution_count": 182,
   "metadata": {},
   "outputs": [
    {
     "name": "stdout",
     "output_type": "stream",
     "text": [
      " \n",
      "D\n",
      " \n",
      "N\n",
      "C\n",
      " \n",
      "Z\n",
      "M\n",
      "P\n"
     ]
    }
   ],
   "source": [
    "# read in the raw assignment data\n",
    "input_path = \"test_input.txt\"\n",
    "test_solution = 'CMZ'\n",
    "with open(input_path, 'r') as f:\n",
    "    data = f.read().splitlines()\n",
    "\n",
    "stacks = extract_stack_info(data)\n",
    "instructions = get_instructions(data)\n",
    "\n",
    "reordered_stacks = execute_instructions(stacks, instructions)\n",
    "\n",
    "stack_tops = ''\n",
    "stacks_index = range(1, len(reordered_stacks)+1)\n",
    "for index in stacks_index:\n",
    "    stack_tops += reordered_stacks[index][-1]\n",
    "\n",
    "\n",
    "assert(stack_tops==test_solution)"
   ]
  },
  {
   "cell_type": "code",
   "execution_count": 183,
   "metadata": {},
   "outputs": [
    {
     "data": {
      "text/plain": [
       "{2: deque(['M']), 1: deque(['C']), 3: deque(['P', 'D', 'N', 'Z'])}"
      ]
     },
     "execution_count": 183,
     "metadata": {},
     "output_type": "execute_result"
    }
   ],
   "source": [
    "stacks"
   ]
  }
 ],
 "metadata": {
  "kernelspec": {
   "display_name": "Python 3.10.8 ('aoc')",
   "language": "python",
   "name": "python3"
  },
  "language_info": {
   "codemirror_mode": {
    "name": "ipython",
    "version": 3
   },
   "file_extension": ".py",
   "mimetype": "text/x-python",
   "name": "python",
   "nbconvert_exporter": "python",
   "pygments_lexer": "ipython3",
   "version": "3.10.8"
  },
  "orig_nbformat": 4,
  "vscode": {
   "interpreter": {
    "hash": "52ad416f76a6efa5a69d7566ebc8421c5a342435fb751d62e29cc6b08ddad190"
   }
  }
 },
 "nbformat": 4,
 "nbformat_minor": 2
}
