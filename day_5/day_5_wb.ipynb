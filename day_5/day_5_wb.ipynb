{
 "cells": [
  {
   "cell_type": "code",
   "execution_count": 19,
   "metadata": {},
   "outputs": [],
   "source": [
    "from collections import deque\n",
    "import string"
   ]
  },
  {
   "cell_type": "code",
   "execution_count": 20,
   "metadata": {},
   "outputs": [],
   "source": [
    "def get_stacks(stacks, stack_row):\n",
    "    ''' Takes the stacks dictionary and the current stack row, \n",
    "        return the stacks dict with the stack rows info added '''\n",
    "    \n",
    "    # use this to keep track of the stack we are working with\n",
    "    stack_counter = 1\n",
    "\n",
    "    # loop stack row to extract the crates\n",
    "    for i in range(1, len(stack_row), 4):\n",
    "\n",
    "        # get the crate label\n",
    "        crate_label = stack_row[i]\n",
    "\n",
    "        # skip over the empty rows\n",
    "        if crate_label != ' ':\n",
    "\n",
    "            # put the crate label in the appropriate place in the stack\n",
    "            current_stack = stacks.get(stack_counter, deque())\n",
    "            current_stack.append(crate_label)\n",
    "            stacks[stack_counter] = current_stack\n",
    "\n",
    "        # move to the next stack in the row\n",
    "        stack_counter += 1\n",
    "\n",
    "    return stacks\n",
    "\n",
    "\n",
    "def extract_stack_info(data):\n",
    "    ''' Take the raw input data, returns the stack info'''\n",
    "\n",
    "    # keep track of the stacks in a dict so they can be indexed\n",
    "    stacks = {}\n",
    "\n",
    "    upper_case_set = set(string.ascii_uppercase)\n",
    "\n",
    "    # loop over the stack row in the data\n",
    "    for stack_row in data:\n",
    "        row_set = set(stack_row)\n",
    "\n",
    "        if not stack_row or not (upper_case_set & row_set):\n",
    "            # starting from the top if the row is empty, or if it has number then\n",
    "            # we are no longer in the stack information part of the input\n",
    "            break\n",
    "        else:\n",
    "            # get the info from that row of the stack\n",
    "            stacks = get_stacks(stacks, stack_row)\n",
    "\n",
    "    # reverse it so it is in the right order, we are reading from the top of the stack down\n",
    "    for key in stacks.keys():\n",
    "        stacks[key].reverse()\n",
    "\n",
    "    return stacks\n",
    "\n",
    "\n",
    "def get_instructions(data):\n",
    "    ''' Take the data set, return the instructions'''\n",
    "\n",
    "    # instruction list, need to presever order\n",
    "    instructions = []\n",
    "\n",
    "    for line in data:\n",
    "\n",
    "        # all the instruction rows start with the word 'move' so we use this test\n",
    "        if 'move' not in line:\n",
    "            continue\n",
    "\n",
    "        else:\n",
    "            # we care about how many crate to move (quantity), from where (origin), to where (destination)\n",
    "            # the instructions are in a predictable order so we hard code that \n",
    "            instruction_pieces = line.split(' ')\n",
    "            instructions.append({'quantity': int(instruction_pieces[1]),\\\n",
    "                                 'origin': int(instruction_pieces[3]),\\\n",
    "                                 'destination': int(instruction_pieces[5])})\n",
    "\n",
    "    return instructions\n",
    "\n",
    "def execute_instructions(stacks, instructions, version='9000'):\n",
    "    ''' Takes the stacks, instructions and crane version, returns the stacks after instructions have been executed'''\n",
    "\n",
    "    # execute the instruction\n",
    "    for instruction in instructions:\n",
    "\n",
    "        # check to see what crane we are using\n",
    "        if version == '9000':\n",
    "            # here we grab crate one at a time\n",
    "            for _ in range(instruction['quantity']):\n",
    "\n",
    "                # remove the crate from its origin stack\n",
    "                crate = stacks[instruction['origin']].pop()\n",
    "\n",
    "                # add the crate to its destination stack\n",
    "                stacks[instruction['destination']].append(crate)\n",
    "\n",
    "        elif version == '9001':\n",
    "            # here we move crates all at once from the origin stack\n",
    "            crates = [stacks[instruction['origin']].pop() for _ in range(instruction['quantity'])]\n",
    "\n",
    "            # make sure they are in the right order\n",
    "            crates.reverse()\n",
    "\n",
    "            # put the crates in their destination stack\n",
    "            stacks[instruction['destination']] = stacks[instruction['destination']] + deque(crates)\n",
    "\n",
    "        else:\n",
    "            # sometimes we get the crane version number wrong\n",
    "            Exception('Wrong crane version number')\n",
    "    \n",
    "    return stacks\n",
    "\n",
    "\n",
    "def get_stack_tops(stacks):\n",
    "    ''' Takes the stacks, return the crate on top of each'''\n",
    "\n",
    "    stack_tops = ''\n",
    "    stacks_index = range(1, len(stacks)+1)\n",
    "    for index in stacks_index:\n",
    "        stack_tops += stacks[index][-1]\n",
    "    \n",
    "    return stack_tops\n",
    "    "
   ]
  },
  {
   "cell_type": "code",
   "execution_count": 21,
   "metadata": {},
   "outputs": [],
   "source": [
    "def help_the_elfs(input_path, crane_version='9000'):\n",
    "    ''' Takes the location of the raw data and crane version,\n",
    "        return the updated stacks '''\n",
    "\n",
    "    # read in the raw data\n",
    "    with open(input_path, 'r') as f:\n",
    "        data = f.read().splitlines()\n",
    "\n",
    "    # extract the stack information and instructions\n",
    "    stacks = extract_stack_info(data)\n",
    "    instructions = get_instructions(data)\n",
    "\n",
    "    # execute the instructions on the stack\n",
    "    reordered_stacks = execute_instructions(stacks, instructions, crane_version)\n",
    "\n",
    "    # find the top crates for each stack\n",
    "    stack_tops = get_stack_tops(reordered_stacks)\n",
    "    \n",
    "    return stack_tops"
   ]
  },
  {
   "cell_type": "code",
   "execution_count": 22,
   "metadata": {},
   "outputs": [],
   "source": [
    "def test_part_1():\n",
    "    ''' Returns True if part 1 works against the test data '''\n",
    "\n",
    "    input_path = \"test_input.txt\"\n",
    "    test_solution = 'CMZ'\n",
    "    stack_tops = help_the_elfs(input_path, crane_version='9000')\n",
    "\n",
    "    return stack_tops==test_solution\n",
    "\n",
    "def test_part_2():\n",
    "    ''' Return True if part 2 works against the test data'''\n",
    "    input_path = \"test_input.txt\"\n",
    "    test_solution = 'MCD'\n",
    "    stack_tops = help_the_elfs(input_path, crane_version='9001')\n",
    "    return stack_tops==test_solution"
   ]
  },
  {
   "cell_type": "code",
   "execution_count": 23,
   "metadata": {},
   "outputs": [
    {
     "name": "stdout",
     "output_type": "stream",
     "text": [
      "The tops of the stacks with crane 9000 are QPJPLMNNR\n"
     ]
    }
   ],
   "source": [
    "if test_part_1():\n",
    "    input_path = \"input.txt\"\n",
    "    answer = help_the_elfs(input_path, crane_version='9000')\n",
    "    msg = 'The tops of the stacks with crane 9000 are {answer}'\n",
    "    print(msg.format(answer=answer))"
   ]
  },
  {
   "cell_type": "code",
   "execution_count": 24,
   "metadata": {},
   "outputs": [
    {
     "name": "stdout",
     "output_type": "stream",
     "text": [
      "The tops of the stacks with crane 9001 are BQDNWJPVJ\n"
     ]
    }
   ],
   "source": [
    "if test_part_2():\n",
    "    input_path = \"input.txt\"\n",
    "    answer = help_the_elfs(input_path, crane_version='9001')\n",
    "\n",
    "    msg = 'The tops of the stacks with crane 9001 are {answer}'\n",
    "    print(msg.format(answer=answer))\n"
   ]
  }
 ],
 "metadata": {
  "kernelspec": {
   "display_name": "Python 3.10.8 ('aoc')",
   "language": "python",
   "name": "python3"
  },
  "language_info": {
   "codemirror_mode": {
    "name": "ipython",
    "version": 3
   },
   "file_extension": ".py",
   "mimetype": "text/x-python",
   "name": "python",
   "nbconvert_exporter": "python",
   "pygments_lexer": "ipython3",
   "version": "3.10.8"
  },
  "orig_nbformat": 4,
  "vscode": {
   "interpreter": {
    "hash": "52ad416f76a6efa5a69d7566ebc8421c5a342435fb751d62e29cc6b08ddad190"
   }
  }
 },
 "nbformat": 4,
 "nbformat_minor": 2
}
