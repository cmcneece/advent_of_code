{
 "cells": [
  {
   "cell_type": "code",
   "execution_count": 55,
   "metadata": {},
   "outputs": [],
   "source": [
    "input_path = 'input.txt'\n",
    "with open(input_path, 'r') as f:\n",
    "    data = f.read().splitlines()[0]"
   ]
  },
  {
   "cell_type": "code",
   "execution_count": 56,
   "metadata": {},
   "outputs": [],
   "source": [
    "def get_marker_index(data, marker_type='message'):\n",
    "\n",
    "    search_length = 14 if marker_type == 'message' else 4\n",
    "\n",
    "    for i in range(len(data)):\n",
    "        marker = data[i:i+search_length]\n",
    "        if len(set(marker)) == search_length:\n",
    "            return(i+search_length)"
   ]
  },
  {
   "cell_type": "code",
   "execution_count": 57,
   "metadata": {},
   "outputs": [
    {
     "name": "stdout",
     "output_type": "stream",
     "text": [
      "True\n",
      "1816\n"
     ]
    }
   ],
   "source": [
    "def test_packet_algorithm():\n",
    "    test_signals =['bvwbjplbgvbhsrlpgdmjqwftvncz',\n",
    "                'nppdvjthqldpwncqszvftbrmjlhg',\n",
    "                'nznrnfrfntjfmvfwmzdfjlvtqnbhcprsg',\n",
    "                'zcfzfwzzqfrljwzlrfnpqdbhtmscgvjw']\n",
    "\n",
    "    test_answers = [5, 6, 10, 11]\n",
    "\n",
    "    index = []\n",
    "    for signal in test_signals:\n",
    "        index.append(get_marker_index(signal, marker_type='packet'))\n",
    "\n",
    "    return index == test_answers\n",
    "\n",
    "print(test_packet_algorithm())\n",
    "\n",
    "part_1 = get_marker_index(data, marker_type='packet' )\n",
    "print(part_1)"
   ]
  },
  {
   "cell_type": "code",
   "execution_count": 58,
   "metadata": {},
   "outputs": [
    {
     "name": "stdout",
     "output_type": "stream",
     "text": [
      "True\n",
      "2625\n"
     ]
    }
   ],
   "source": [
    "def test_message_algorithm():\n",
    "    test_signals =['mjqjpqmgbljsphdztnvjfqwrcgsmlb',\n",
    "                   'bvwbjplbgvbhsrlpgdmjqwftvncz',\n",
    "                   'nppdvjthqldpwncqszvftbrmjlhg',\n",
    "                   'nznrnfrfntjfmvfwmzdfjlvtqnbhcprsg',\n",
    "                   'zcfzfwzzqfrljwzlrfnpqdbhtmscgvjw']\n",
    "\n",
    "    test_answers = [19, 23, 23, 29, 26]\n",
    "\n",
    "    index = []\n",
    "    for signal in test_signals:\n",
    "        index.append(get_marker_index(signal, marker_type='message'))\n",
    "    return index == test_answers\n",
    "\n",
    "print(test_message_algorithm())\n",
    "\n",
    "part_2 = get_marker_index(data, marker_type='message')\n",
    "print(part_2)"
   ]
  }
 ],
 "metadata": {
  "kernelspec": {
   "display_name": "Python 3.10.8 ('aoc')",
   "language": "python",
   "name": "python3"
  },
  "language_info": {
   "codemirror_mode": {
    "name": "ipython",
    "version": 3
   },
   "file_extension": ".py",
   "mimetype": "text/x-python",
   "name": "python",
   "nbconvert_exporter": "python",
   "pygments_lexer": "ipython3",
   "version": "3.10.8"
  },
  "orig_nbformat": 4,
  "vscode": {
   "interpreter": {
    "hash": "52ad416f76a6efa5a69d7566ebc8421c5a342435fb751d62e29cc6b08ddad190"
   }
  }
 },
 "nbformat": 4,
 "nbformat_minor": 2
}
